{
 "cells": [
  {
   "cell_type": "code",
   "execution_count": 1,
   "metadata": {},
   "outputs": [],
   "source": [
    "import os\n",
    "import pickle\n",
    "import boto3\n",
    "\n",
    "from dotenv import load_dotenv\n",
    "from fastai.collab import load_learner"
   ]
  },
  {
   "cell_type": "code",
   "execution_count": 2,
   "metadata": {},
   "outputs": [],
   "source": [
    "load_dotenv()\n",
    "\n",
    "AWS_ACCESS_KEY_ID = os.getenv(\"AWS_ACCESS_KEY_ID\")\n",
    "AWS_SECRET_ACCESS_KEY = os.getenv(\"AWS_SECRET_ACCESS_KEY\")"
   ]
  },
  {
   "cell_type": "code",
   "execution_count": 3,
   "metadata": {},
   "outputs": [],
   "source": [
    "def authenticate_to_aws():\n",
    "    \"\"\"Authenticates to AWS given loaded credentials.\"\"\"\n",
    "    session = boto3.Session(\n",
    "        aws_access_key_id=AWS_ACCESS_KEY_ID,\n",
    "        aws_secret_access_key=AWS_SECRET_ACCESS_KEY\n",
    "    )\n",
    "    return session\n",
    "\n",
    "def store_data_to_s3(session, file, bucket, key):\n",
    "    \"\"\"Stores data to specified S3 bucket.\"\"\"\n",
    "    s3 = session.client(\"s3\")\n",
    "    s3.upload_file(\n",
    "        Filename=file,\n",
    "        Bucket=bucket,\n",
    "        Key=key\n",
    "    )\n",
    "\n",
    "def load_data_from_s3(bucket, key):\n",
    "    \"\"\"Loads data from specified S3 bucket.\"\"\"\n",
    "    s3 = session.client(\"s3\")\n",
    "    obj = s3.get_object(Bucket=bucket, Key=key)\n",
    "    \n",
    "    return obj"
   ]
  },
  {
   "cell_type": "code",
   "execution_count": 4,
   "metadata": {},
   "outputs": [
    {
     "data": {
      "text/plain": [
       "Session(region_name=None)"
      ]
     },
     "execution_count": 4,
     "metadata": {},
     "output_type": "execute_result"
    }
   ],
   "source": [
    "session = authenticate_to_aws()\n",
    "session"
   ]
  },
  {
   "cell_type": "code",
   "execution_count": 5,
   "metadata": {},
   "outputs": [
    {
     "name": "stdout",
     "output_type": "stream",
     "text": [
      "cyclingsimilarity-s3\n"
     ]
    }
   ],
   "source": [
    "s3 = session.client(\"s3\")\n",
    "response = s3.list_buckets()\n",
    "for bucket in response[\"Buckets\"]:\n",
    "    print(f\"{bucket['Name']}\")"
   ]
  },
  {
   "cell_type": "code",
   "execution_count": 6,
   "metadata": {},
   "outputs": [],
   "source": [
    "store_data_to_s3(session, file=\"../api/learner.pkl\", bucket=\"cyclingsimilarity-s3\", key=\"learner.pkl\")"
   ]
  },
  {
   "cell_type": "code",
   "execution_count": 7,
   "metadata": {},
   "outputs": [],
   "source": [
    "obj = load_data_from_s3(bucket=\"cyclingsimilarity-s3\", key=\"learner.pkl\")"
   ]
  },
  {
   "cell_type": "code",
   "execution_count": 8,
   "metadata": {},
   "outputs": [],
   "source": [
    "# learn = load_learner(obj[\"Body\"].read())\n",
    "# pkl = pickle.loads(obj[\"Body\"].read())"
   ]
  }
 ],
 "metadata": {
  "kernelspec": {
   "display_name": "cyclingsimilarity-com-mclyxjLu-py3.10",
   "language": "python",
   "name": "python3"
  },
  "language_info": {
   "codemirror_mode": {
    "name": "ipython",
    "version": 3
   },
   "file_extension": ".py",
   "mimetype": "text/x-python",
   "name": "python",
   "nbconvert_exporter": "python",
   "pygments_lexer": "ipython3",
   "version": "3.10.9"
  },
  "orig_nbformat": 4
 },
 "nbformat": 4,
 "nbformat_minor": 2
}
