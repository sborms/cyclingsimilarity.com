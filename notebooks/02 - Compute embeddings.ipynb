{
 "cells": [
  {
   "cell_type": "markdown",
   "id": "2d7831bc-6b05-4933-848a-594b8d2ddf88",
   "metadata": {},
   "source": [
    "## Compute embeddings from race ranking data"
   ]
  },
  {
   "cell_type": "markdown",
   "id": "32f52688-3fc4-4bbe-b081-14da57bf3162",
   "metadata": {},
   "source": [
    "Here's the next step! The algorithm finds hidden factors (called embeddings) that summarize a racer's and a race's profile. Inspired from this [Kaggle notebook](https://www.kaggle.com/code/sborms/collaborative-filtering-deep-dive)."
   ]
  },
  {
   "cell_type": "code",
   "execution_count": 1,
   "id": "335bf605-c1d6-4a5d-9965-46c8e08e6f6a",
   "metadata": {},
   "outputs": [],
   "source": [
    "# TODO: scale up importance of general classification\n",
    "# TODO: improve interpretation (a.o. graphs with PCA)\n",
    "# TODO: check out work from https://www.cyclingoracle.com"
   ]
  },
  {
   "cell_type": "code",
   "execution_count": 2,
   "id": "c0457b20-d81f-46cc-9b54-15cd60c989d5",
   "metadata": {
    "tags": []
   },
   "outputs": [
    {
     "name": "stdout",
     "output_type": "stream",
     "text": [
      "\u001b[1m\u001b[33mLet's go\u001b[0m!\n"
     ]
    }
   ],
   "source": [
    "print(f\"\\33[1m\\33[33mLet's go\\33[0m!\")"
   ]
  },
  {
   "cell_type": "markdown",
   "id": "f027820b-2f61-45b8-bbaf-db1e38b0e640",
   "metadata": {},
   "source": [
    "## Imports"
   ]
  },
  {
   "cell_type": "code",
   "execution_count": 3,
   "id": "9925a5a5",
   "metadata": {
    "tags": []
   },
   "outputs": [],
   "source": [
    "import numpy as np\n",
    "import pandas as pd\n",
    "import matplotlib.pyplot as plt\n",
    "from fastai.collab import *\n",
    "from fastai.tabular.all import *"
   ]
  },
  {
   "cell_type": "markdown",
   "id": "7bcfdf5d-e92a-4589-8806-1a2147bd3a00",
   "metadata": {},
   "source": [
    "## Functions"
   ]
  },
  {
   "cell_type": "code",
   "execution_count": 4,
   "id": "8537546f-7af2-43b3-83bd-045dbd5199a2",
   "metadata": {
    "tags": []
   },
   "outputs": [],
   "source": [
    "def normalize_results_by_race(df, how):\n",
    "    if how == \"0-1\":\n",
    "        return df.rank(axis=1, pct=True, ascending=False, na_option=\"keep\")  # 1.0 means first, 0.0 means last in race\n",
    "    if how == \"1-20\":\n",
    "        return df.clip(upper=20)  # logic is inversed here: higher values indicates lower performance\n",
    "    if how == \"bins\":\n",
    "        return df.apply(lambda x: pd.cut(x,\n",
    "                                         bins=[1, 3, 5, 10, 20, 200],  # podium, top-5, top-10, top-20, not in contention\n",
    "                                         labels=[5, 4, 3, 2, 1],  # from best to worse race result, NaN is not participated/finished\n",
    "                                         include_lowest=True\n",
    "                                        )\n",
    "                       )\n",
    "\n",
    "def get_year_weight(year, decay=0.25):\n",
    "    \"\"\"Give more weight to current and more recent years.\"\"\"  # bias seems to be impacted by how long riders are active\n",
    "    return np.exp(-decay * (CURR_YEAR - year))  # if decay factor is set higher, earlier years receive less weight\n",
    "\n",
    "def get_race_class_weight(race_class):\n",
    "    \"\"\"Give more weight to most important races.\"\"\"\n",
    "    return {\"UWT\": 2, \"Pro\": 1.5, \"1\": 0.75, \"2\": 0.5}[race_class]\n",
    "\n",
    "def get_stage_weight(stage: bool):\n",
    "    \"\"\"Give less weight to stages from a multi-stage race.\"\"\"\n",
    "    return 0.8 if stage is True else 1\n",
    "\n",
    "def extract_factors(learn, dim):\n",
    "    return learn.model.u_weight.weight if dim == \"rider\" else learn.model.i_weight.weight if dim == \"stage\" else None\n",
    "\n",
    "def extract_bias(learn, dim):\n",
    "    return learn.model.u_bias.weight.squeeze() if dim == \"rider\" else learn.model.i_bias.weight.squeeze() if dim == \"stage\" else None\n",
    "\n",
    "def extract_most_similar_elements(learn, dim=\"rider\", element=\"VAN AERT Wout\", n=20):\n",
    "    assert dim in [\"rider\", \"stage\"], \"Dimension should be 'rider' or 'stage'.\"\n",
    "    factors = extract_factors(learn, dim)\n",
    "    idx = learn.dls.classes[dim].o2i[element]\n",
    "    sim = nn.CosineSimilarity(dim=1)(factors, factors[idx][None])\n",
    "    # pd.Series(sim.detach()).sort_values(ascending=False).reset_index(drop=True).plot()  # twisted S-shape\n",
    "    idx = sim.argsort(descending=True)[1:(n+1)]\n",
    "    return learn.dls.classes[dim][idx]\n",
    "\n",
    "def plot_pca(df, learn, dim, n_plot=50):\n",
    "    g = df.groupby(dim)[\"result\"].count()\n",
    "    top_dim = g.sort_values(ascending=False).index.values[:]  # takes riders with most races, or races with most participants\n",
    "    top_idxs = tensor([learn.dls.classes[dim].o2i[m] for m in top_dim])\n",
    "\n",
    "    factors = extract_factors(learn, dim)\n",
    "    w = factors[top_idxs].cpu().detach()\n",
    "\n",
    "    pca = w.pca(3)\n",
    "    fac0, fac1, fac2 = pca.t()\n",
    "    idxs = list(range(n_plot))\n",
    "    X, Y = fac0[idxs], fac2[idxs]\n",
    "\n",
    "    plt.figure(figsize=(7, 7))\n",
    "    plt.scatter(X, Y)\n",
    "    for i, x, y in zip(top_dim[idxs], X, Y):\n",
    "        plt.text(x, y, i, color=np.random.rand(3)*0.7, fontsize=9)\n",
    "    plt.show()"
   ]
  },
  {
   "cell_type": "markdown",
   "id": "a4550ac0-539d-4632-9ab2-71655fda9171",
   "metadata": {},
   "source": [
    "## Config"
   ]
  },
  {
   "cell_type": "code",
   "execution_count": 5,
   "id": "0ebc5c78-6593-42bf-b377-18b3da69ffef",
   "metadata": {},
   "outputs": [],
   "source": [
    "BS = 64  # batch size\n",
    "NORMALIZE_HOW = \"bins\"  # \"0-1\", \"1-20\", \"bins\"\n",
    "MIN_N_PARTICIPATINS = 20  # a rider is considered only if they did at least this amount of race participations\n",
    "N_FACTORS = 10  # number of hidden factors\n",
    "Y_RANGE = (0, 5.25 * 2)  # (0, 1) or (1, 20.5) or (0, 5.25), multiply by max. of race class weighting\n",
    "CURR_YEAR = 2023"
   ]
  },
  {
   "cell_type": "markdown",
   "id": "092d92d5-bb42-4277-a01f-9e64983136e9",
   "metadata": {
    "tags": []
   },
   "source": [
    "## Compute embeddings"
   ]
  },
  {
   "cell_type": "code",
   "execution_count": 6,
   "id": "c7fb757b-af28-4b81-9b31-afa7c3f03d9a",
   "metadata": {
    "tags": []
   },
   "outputs": [],
   "source": [
    "df_results = pd.read_csv(\"../data/results_matrix.csv\",\n",
    "                         index_col=[0, 1, 2],\n",
    "                         dtype={\"year\": str, \"stage_slug\": str, \"class\": str})"
   ]
  },
  {
   "cell_type": "code",
   "execution_count": 7,
   "id": "cf7d6cef-f543-4642-bd2c-e14b4ed15b1b",
   "metadata": {
    "tags": []
   },
   "outputs": [],
   "source": [
    "df_results = df_results[df_results.columns[df_results.count(axis=0) >= MIN_N_PARTICIPATINS]]\n",
    "df_results.columns = df_results.columns.str.strip()  # some columns have trailing whitespaces"
   ]
  },
  {
   "cell_type": "code",
   "execution_count": 8,
   "id": "e186fa79-9a09-4c21-a64b-88e2fcbc7a85",
   "metadata": {},
   "outputs": [
    {
     "data": {
      "text/html": [
       "<div>\n",
       "<style scoped>\n",
       "    .dataframe tbody tr th:only-of-type {\n",
       "        vertical-align: middle;\n",
       "    }\n",
       "\n",
       "    .dataframe tbody tr th {\n",
       "        vertical-align: top;\n",
       "    }\n",
       "\n",
       "    .dataframe thead th {\n",
       "        text-align: right;\n",
       "    }\n",
       "</style>\n",
       "<table border=\"1\" class=\"dataframe\">\n",
       "  <thead>\n",
       "    <tr style=\"text-align: right;\">\n",
       "      <th></th>\n",
       "      <th></th>\n",
       "      <th></th>\n",
       "      <th>VAN AERT Wout</th>\n",
       "    </tr>\n",
       "    <tr>\n",
       "      <th>year</th>\n",
       "      <th>stage_slug</th>\n",
       "      <th>class</th>\n",
       "      <th></th>\n",
       "    </tr>\n",
       "  </thead>\n",
       "  <tbody>\n",
       "    <tr>\n",
       "      <th rowspan=\"5\" valign=\"top\">2018</th>\n",
       "      <th>omloop-het-nieuwsblad/2018/</th>\n",
       "      <th>1.UWT</th>\n",
       "      <td>32.0</td>\n",
       "    </tr>\n",
       "    <tr>\n",
       "      <th>strade-bianche/2018/</th>\n",
       "      <th>1.UWT</th>\n",
       "      <td>3.0</td>\n",
       "    </tr>\n",
       "    <tr>\n",
       "      <th>oxyclean-classic-brugge-de-panne/2018/</th>\n",
       "      <th>1.UWT</th>\n",
       "      <td>36.0</td>\n",
       "    </tr>\n",
       "    <tr>\n",
       "      <th>gent-wevelgem/2018/</th>\n",
       "      <th>1.UWT</th>\n",
       "      <td>10.0</td>\n",
       "    </tr>\n",
       "    <tr>\n",
       "      <th>dwars-door-vlaanderen/2018/</th>\n",
       "      <th>1.UWT</th>\n",
       "      <td>83.0</td>\n",
       "    </tr>\n",
       "  </tbody>\n",
       "</table>\n",
       "</div>"
      ],
      "text/plain": [
       "                                                   VAN AERT Wout\n",
       "year stage_slug                             class               \n",
       "2018 omloop-het-nieuwsblad/2018/            1.UWT           32.0\n",
       "     strade-bianche/2018/                   1.UWT            3.0\n",
       "     oxyclean-classic-brugge-de-panne/2018/ 1.UWT           36.0\n",
       "     gent-wevelgem/2018/                    1.UWT           10.0\n",
       "     dwars-door-vlaanderen/2018/            1.UWT           83.0"
      ]
     },
     "execution_count": 8,
     "metadata": {},
     "output_type": "execute_result"
    }
   ],
   "source": [
    "df_results.filter(regex=\"VAN AERT Wout\").dropna().head()"
   ]
  },
  {
   "cell_type": "code",
   "execution_count": 9,
   "id": "a16ef321-5522-4142-836a-6b72ce748491",
   "metadata": {
    "tags": []
   },
   "outputs": [],
   "source": [
    "df_results = normalize_results_by_race(df_results, how=NORMALIZE_HOW)\n",
    "df_results = df_results.astype(float)"
   ]
  },
  {
   "cell_type": "code",
   "execution_count": 10,
   "id": "f582a8b3-93be-4f12-9cb5-b8945ca070dd",
   "metadata": {
    "tags": []
   },
   "outputs": [
    {
     "data": {
      "text/html": [
       "<div>\n",
       "<style scoped>\n",
       "    .dataframe tbody tr th:only-of-type {\n",
       "        vertical-align: middle;\n",
       "    }\n",
       "\n",
       "    .dataframe tbody tr th {\n",
       "        vertical-align: top;\n",
       "    }\n",
       "\n",
       "    .dataframe thead th {\n",
       "        text-align: right;\n",
       "    }\n",
       "</style>\n",
       "<table border=\"1\" class=\"dataframe\">\n",
       "  <thead>\n",
       "    <tr style=\"text-align: right;\">\n",
       "      <th></th>\n",
       "      <th></th>\n",
       "      <th></th>\n",
       "      <th>VAN AERT Wout</th>\n",
       "    </tr>\n",
       "    <tr>\n",
       "      <th>year</th>\n",
       "      <th>stage_slug</th>\n",
       "      <th>class</th>\n",
       "      <th></th>\n",
       "    </tr>\n",
       "  </thead>\n",
       "  <tbody>\n",
       "    <tr>\n",
       "      <th rowspan=\"5\" valign=\"top\">2018</th>\n",
       "      <th>omloop-het-nieuwsblad/2018/</th>\n",
       "      <th>1.UWT</th>\n",
       "      <td>1.0</td>\n",
       "    </tr>\n",
       "    <tr>\n",
       "      <th>strade-bianche/2018/</th>\n",
       "      <th>1.UWT</th>\n",
       "      <td>5.0</td>\n",
       "    </tr>\n",
       "    <tr>\n",
       "      <th>oxyclean-classic-brugge-de-panne/2018/</th>\n",
       "      <th>1.UWT</th>\n",
       "      <td>1.0</td>\n",
       "    </tr>\n",
       "    <tr>\n",
       "      <th>gent-wevelgem/2018/</th>\n",
       "      <th>1.UWT</th>\n",
       "      <td>3.0</td>\n",
       "    </tr>\n",
       "    <tr>\n",
       "      <th>dwars-door-vlaanderen/2018/</th>\n",
       "      <th>1.UWT</th>\n",
       "      <td>1.0</td>\n",
       "    </tr>\n",
       "  </tbody>\n",
       "</table>\n",
       "</div>"
      ],
      "text/plain": [
       "                                                   VAN AERT Wout\n",
       "year stage_slug                             class               \n",
       "2018 omloop-het-nieuwsblad/2018/            1.UWT            1.0\n",
       "     strade-bianche/2018/                   1.UWT            5.0\n",
       "     oxyclean-classic-brugge-de-panne/2018/ 1.UWT            1.0\n",
       "     gent-wevelgem/2018/                    1.UWT            3.0\n",
       "     dwars-door-vlaanderen/2018/            1.UWT            1.0"
      ]
     },
     "execution_count": 10,
     "metadata": {},
     "output_type": "execute_result"
    }
   ],
   "source": [
    "df_results.filter(regex=\"VAN AERT Wout\").dropna().head()"
   ]
  },
  {
   "cell_type": "code",
   "execution_count": 11,
   "id": "e5857dfe-79e8-4e4c-94c3-8d645eeeaaa1",
   "metadata": {
    "tags": []
   },
   "outputs": [],
   "source": [
    "df_reweight = df_results.index.to_frame().reset_index(drop=True)"
   ]
  },
  {
   "cell_type": "code",
   "execution_count": 12,
   "id": "f4210a4b-faba-41cf-b1af-bb30d9e08427",
   "metadata": {
    "tags": []
   },
   "outputs": [],
   "source": [
    "df_reweight[\"w_year\"] = df_reweight[\"year\"].astype(int).apply(get_year_weight)\n",
    "df_reweight[\"w_class\"] = df_reweight[\"class\"].str.partition(\".\")[2].apply(get_race_class_weight)\n",
    "df_reweight[\"w_stage\"] = df_reweight[\"stage_slug\"].str.contains(\"/stage-\").apply(get_stage_weight)\n",
    "df_reweight[\"w\"] = df_reweight[\"w_year\"] * df_reweight[\"w_class\"] * df_reweight[\"w_stage\"]\n",
    "df_reweight.set_index([\"year\", \"stage_slug\", \"class\"], inplace=True)"
   ]
  },
  {
   "cell_type": "code",
   "execution_count": 13,
   "id": "931de7d7-dd69-46e5-ad20-79f558c18458",
   "metadata": {
    "tags": []
   },
   "outputs": [
    {
     "name": "stdout",
     "output_type": "stream",
     "text": [
      "[0.11, 0.14, 0.15, 0.17, 0.18, 0.19, 0.21, 0.22, 0.24, 0.24, 0.28, 0.28, 0.3, 0.31, 0.34, 0.35, 0.36, 0.39, 0.4, 0.43, 0.44, 0.45, 0.46, 0.47, 0.5, 0.55, 0.57, 0.57, 0.58, 0.59, 0.6, 0.71, 0.73, 0.74, 0.75, 0.76, 0.91, 0.93, 0.94, 0.97, 1.17, 1.2, 1.21, 1.25, 1.5, 1.56, 1.6, 2.0]\n"
     ]
    }
   ],
   "source": [
    "print(sorted(np.round(df_reweight[\"w\"].unique(), 2)))"
   ]
  },
  {
   "cell_type": "code",
   "execution_count": 14,
   "id": "74246a37-5222-4c2c-98d8-11f62e5ae266",
   "metadata": {
    "tags": []
   },
   "outputs": [],
   "source": [
    "# scale race results by weights\n",
    "df_results.loc[:, :] = df_results.to_numpy() * df_reweight[[\"w\"]].to_numpy()"
   ]
  },
  {
   "cell_type": "code",
   "execution_count": 15,
   "id": "67b15245-625c-4aba-b550-d61d0fb827e7",
   "metadata": {
    "tags": []
   },
   "outputs": [
    {
     "data": {
      "text/html": [
       "<div>\n",
       "<style scoped>\n",
       "    .dataframe tbody tr th:only-of-type {\n",
       "        vertical-align: middle;\n",
       "    }\n",
       "\n",
       "    .dataframe tbody tr th {\n",
       "        vertical-align: top;\n",
       "    }\n",
       "\n",
       "    .dataframe thead th {\n",
       "        text-align: right;\n",
       "    }\n",
       "</style>\n",
       "<table border=\"1\" class=\"dataframe\">\n",
       "  <thead>\n",
       "    <tr style=\"text-align: right;\">\n",
       "      <th></th>\n",
       "      <th></th>\n",
       "      <th></th>\n",
       "      <th>VAN AERT Wout</th>\n",
       "    </tr>\n",
       "    <tr>\n",
       "      <th>year</th>\n",
       "      <th>stage_slug</th>\n",
       "      <th>class</th>\n",
       "      <th></th>\n",
       "    </tr>\n",
       "  </thead>\n",
       "  <tbody>\n",
       "    <tr>\n",
       "      <th rowspan=\"3\" valign=\"top\">2022</th>\n",
       "      <th>e3-harelbeke/2022/</th>\n",
       "      <th>1.UWT</th>\n",
       "      <td>7.788008</td>\n",
       "    </tr>\n",
       "    <tr>\n",
       "      <th>dauphine/2022/stage-8</th>\n",
       "      <th>2.UWT</th>\n",
       "      <td>1.246081</td>\n",
       "    </tr>\n",
       "    <tr>\n",
       "      <th>tour-de-france/2022/stage-5</th>\n",
       "      <th>2.UWT</th>\n",
       "      <td>2.492163</td>\n",
       "    </tr>\n",
       "    <tr>\n",
       "      <th>2021</th>\n",
       "      <th>tirreno-adriatico/2021/stage-1</th>\n",
       "      <th>2.UWT</th>\n",
       "      <td>4.852245</td>\n",
       "    </tr>\n",
       "    <tr>\n",
       "      <th>2022</th>\n",
       "      <th>gp-montreal/2022/</th>\n",
       "      <th>1.UWT</th>\n",
       "      <td>7.788008</td>\n",
       "    </tr>\n",
       "  </tbody>\n",
       "</table>\n",
       "</div>"
      ],
      "text/plain": [
       "                                           VAN AERT Wout\n",
       "year stage_slug                     class               \n",
       "2022 e3-harelbeke/2022/             1.UWT       7.788008\n",
       "     dauphine/2022/stage-8          2.UWT       1.246081\n",
       "     tour-de-france/2022/stage-5    2.UWT       2.492163\n",
       "2021 tirreno-adriatico/2021/stage-1 2.UWT       4.852245\n",
       "2022 gp-montreal/2022/              1.UWT       7.788008"
      ]
     },
     "execution_count": 15,
     "metadata": {},
     "output_type": "execute_result"
    }
   ],
   "source": [
    "df_results.filter(regex=\"VAN AERT Wout\").dropna().sample(5)"
   ]
  },
  {
   "cell_type": "code",
   "execution_count": 16,
   "id": "7de3675e-afe8-497c-ac64-5e949dd7fe76",
   "metadata": {
    "tags": []
   },
   "outputs": [],
   "source": [
    "df = pd.melt(df_results.reset_index(drop=False).drop(columns=[\"year\", \"class\"]), id_vars=\"stage_slug\")\n",
    "df.rename(columns={\"stage_slug\": \"stage\", \"variable\": \"rider\", \"value\": \"result\"}, inplace=True)\n",
    "df = df[[\"rider\", \"stage\", \"result\"]]  # rider = user, stage (race) = item, result = rating"
   ]
  },
  {
   "cell_type": "code",
   "execution_count": 17,
   "id": "de650f66-3c96-4f5e-a85f-25ff468f6ff3",
   "metadata": {
    "tags": []
   },
   "outputs": [
    {
     "data": {
      "text/plain": [
       "(2930, 2868)"
      ]
     },
     "execution_count": 17,
     "metadata": {},
     "output_type": "execute_result"
    }
   ],
   "source": [
    "df_ = df.dropna()\n",
    "df_.rider.nunique(), df_.stage.nunique()"
   ]
  },
  {
   "cell_type": "code",
   "execution_count": 18,
   "id": "04b7b1cb-a8c7-4cfe-9d04-b67b935c6079",
   "metadata": {
    "tags": []
   },
   "outputs": [
    {
     "data": {
      "text/html": [
       "<table border=\"1\" class=\"dataframe\">\n",
       "  <thead>\n",
       "    <tr style=\"text-align: right;\">\n",
       "      <th></th>\n",
       "      <th>rider</th>\n",
       "      <th>stage</th>\n",
       "      <th>result</th>\n",
       "    </tr>\n",
       "  </thead>\n",
       "  <tbody>\n",
       "    <tr>\n",
       "      <th>0</th>\n",
       "      <td>ROPERO Alejandro</td>\n",
       "      <td>trofeo-palma/2020/</td>\n",
       "      <td>0.354275</td>\n",
       "    </tr>\n",
       "    <tr>\n",
       "      <th>1</th>\n",
       "      <td>VANHOOF Ward</td>\n",
       "      <td>tour-de-wallonie/2021/stage-5</td>\n",
       "      <td>0.727837</td>\n",
       "    </tr>\n",
       "    <tr>\n",
       "      <th>2</th>\n",
       "      <td>BRENNSÆTER Trym</td>\n",
       "      <td>le-tour-de-bretagne/2022/stage-7</td>\n",
       "      <td>0.311520</td>\n",
       "    </tr>\n",
       "    <tr>\n",
       "      <th>3</th>\n",
       "      <td>NICOLAU Joel</td>\n",
       "      <td>volta-a-catalunya/2023/stage-1</td>\n",
       "      <td>1.600000</td>\n",
       "    </tr>\n",
       "    <tr>\n",
       "      <th>4</th>\n",
       "      <td>ARANBURU Alex</td>\n",
       "      <td>tour-de-france/2021/stage-4</td>\n",
       "      <td>0.970449</td>\n",
       "    </tr>\n",
       "    <tr>\n",
       "      <th>5</th>\n",
       "      <td>VALVERDE Alejandro</td>\n",
       "      <td>tour-de-france/2018/stage-5</td>\n",
       "      <td>1.833631</td>\n",
       "    </tr>\n",
       "    <tr>\n",
       "      <th>6</th>\n",
       "      <td>PORSEV Alexander</td>\n",
       "      <td>okolo-slovenska/2019/stage-3</td>\n",
       "      <td>0.220728</td>\n",
       "    </tr>\n",
       "    <tr>\n",
       "      <th>7</th>\n",
       "      <td>HAUSSLER Heinrich</td>\n",
       "      <td>deutschland-tour/2022/stage-4</td>\n",
       "      <td>0.934561</td>\n",
       "    </tr>\n",
       "    <tr>\n",
       "      <th>8</th>\n",
       "      <td>VIVIANI Elia</td>\n",
       "      <td>tour-de-romandie/2019/prologue</td>\n",
       "      <td>0.735759</td>\n",
       "    </tr>\n",
       "    <tr>\n",
       "      <th>9</th>\n",
       "      <td>BAŠKA Erik</td>\n",
       "      <td>course-cycliste-de-solidarnosc/2021/stage-1</td>\n",
       "      <td>0.485225</td>\n",
       "    </tr>\n",
       "  </tbody>\n",
       "</table>"
      ],
      "text/plain": [
       "<IPython.core.display.HTML object>"
      ]
     },
     "metadata": {},
     "output_type": "display_data"
    }
   ],
   "source": [
    "dls = CollabDataLoaders.from_df(df_, bs=BS)\n",
    "dls.show_batch()"
   ]
  },
  {
   "cell_type": "code",
   "execution_count": 19,
   "id": "3268379a-ea32-4c21-ac43-1e422942f4b0",
   "metadata": {
    "tags": []
   },
   "outputs": [],
   "source": [
    "learn = collab_learner(dls, n_factors=N_FACTORS, y_range=Y_RANGE)"
   ]
  },
  {
   "cell_type": "code",
   "execution_count": 20,
   "id": "dc144760-60cb-4351-a925-710bcd46e3ae",
   "metadata": {
    "tags": []
   },
   "outputs": [
    {
     "data": {
      "text/html": [
       "\n",
       "<style>\n",
       "    /* Turns off some styling */\n",
       "    progress {\n",
       "        /* gets rid of default border in Firefox and Opera. */\n",
       "        border: none;\n",
       "        /* Needs to be in here for Safari polyfill so background images work as expected. */\n",
       "        background-size: auto;\n",
       "    }\n",
       "    progress:not([value]), progress:not([value])::-webkit-progress-bar {\n",
       "        background: repeating-linear-gradient(45deg, #7e7e7e, #7e7e7e 10px, #5c5c5c 10px, #5c5c5c 20px);\n",
       "    }\n",
       "    .progress-bar-interrupted, .progress-bar-interrupted::-webkit-progress-bar {\n",
       "        background: #F44336;\n",
       "    }\n",
       "</style>\n"
      ],
      "text/plain": [
       "<IPython.core.display.HTML object>"
      ]
     },
     "metadata": {},
     "output_type": "display_data"
    },
    {
     "data": {
      "text/html": [],
      "text/plain": [
       "<IPython.core.display.HTML object>"
      ]
     },
     "metadata": {},
     "output_type": "display_data"
    },
    {
     "data": {
      "text/plain": [
       "SuggestedLRs(valley=0.02754228748381138)"
      ]
     },
     "execution_count": 20,
     "metadata": {},
     "output_type": "execute_result"
    },
    {
     "data": {
      "image/png": "[encoded data removed]",
      "text/plain": [
       "<Figure size 640x480 with 1 Axes>"
      ]
     },
     "metadata": {},
     "output_type": "display_data"
    }
   ],
   "source": [
    "learn.lr_find()"
   ]
  },
  {
   "cell_type": "code",
   "execution_count": 21,
   "id": "08a9ce9d-4dc7-4b21-8985-a3dc80c6781b",
   "metadata": {
    "tags": []
   },
   "outputs": [
    {
     "data": {
      "text/html": [
       "\n",
       "<style>\n",
       "    /* Turns off some styling */\n",
       "    progress {\n",
       "        /* gets rid of default border in Firefox and Opera. */\n",
       "        border: none;\n",
       "        /* Needs to be in here for Safari polyfill so background images work as expected. */\n",
       "        background-size: auto;\n",
       "    }\n",
       "    progress:not([value]), progress:not([value])::-webkit-progress-bar {\n",
       "        background: repeating-linear-gradient(45deg, #7e7e7e, #7e7e7e 10px, #5c5c5c 10px, #5c5c5c 20px);\n",
       "    }\n",
       "    .progress-bar-interrupted, .progress-bar-interrupted::-webkit-progress-bar {\n",
       "        background: #F44336;\n",
       "    }\n",
       "</style>\n"
      ],
      "text/plain": [
       "<IPython.core.display.HTML object>"
      ]
     },
     "metadata": {},
     "output_type": "display_data"
    },
    {
     "data": {
      "text/html": [
       "<table border=\"1\" class=\"dataframe\">\n",
       "  <thead>\n",
       "    <tr style=\"text-align: left;\">\n",
       "      <th>epoch</th>\n",
       "      <th>train_loss</th>\n",
       "      <th>valid_loss</th>\n",
       "      <th>time</th>\n",
       "    </tr>\n",
       "  </thead>\n",
       "  <tbody>\n",
       "    <tr>\n",
       "      <td>0</td>\n",
       "      <td>0.531150</td>\n",
       "      <td>0.505703</td>\n",
       "      <td>01:05</td>\n",
       "    </tr>\n",
       "    <tr>\n",
       "      <td>1</td>\n",
       "      <td>0.873799</td>\n",
       "      <td>0.903793</td>\n",
       "      <td>01:05</td>\n",
       "    </tr>\n",
       "    <tr>\n",
       "      <td>2</td>\n",
       "      <td>1.314971</td>\n",
       "      <td>1.320297</td>\n",
       "      <td>01:04</td>\n",
       "    </tr>\n",
       "    <tr>\n",
       "      <td>3</td>\n",
       "      <td>1.396178</td>\n",
       "      <td>1.409603</td>\n",
       "      <td>01:07</td>\n",
       "    </tr>\n",
       "    <tr>\n",
       "      <td>4</td>\n",
       "      <td>1.302333</td>\n",
       "      <td>1.443313</td>\n",
       "      <td>01:08</td>\n",
       "    </tr>\n",
       "    <tr>\n",
       "      <td>5</td>\n",
       "      <td>1.296342</td>\n",
       "      <td>1.342623</td>\n",
       "      <td>01:08</td>\n",
       "    </tr>\n",
       "    <tr>\n",
       "      <td>6</td>\n",
       "      <td>1.261472</td>\n",
       "      <td>1.231076</td>\n",
       "      <td>01:08</td>\n",
       "    </tr>\n",
       "    <tr>\n",
       "      <td>7</td>\n",
       "      <td>1.071340</td>\n",
       "      <td>1.056455</td>\n",
       "      <td>01:08</td>\n",
       "    </tr>\n",
       "    <tr>\n",
       "      <td>8</td>\n",
       "      <td>0.899775</td>\n",
       "      <td>0.893932</td>\n",
       "      <td>01:08</td>\n",
       "    </tr>\n",
       "    <tr>\n",
       "      <td>9</td>\n",
       "      <td>0.739991</td>\n",
       "      <td>0.756305</td>\n",
       "      <td>00:59</td>\n",
       "    </tr>\n",
       "    <tr>\n",
       "      <td>10</td>\n",
       "      <td>0.544874</td>\n",
       "      <td>0.604054</td>\n",
       "      <td>01:07</td>\n",
       "    </tr>\n",
       "    <tr>\n",
       "      <td>11</td>\n",
       "      <td>0.487733</td>\n",
       "      <td>0.474730</td>\n",
       "      <td>01:05</td>\n",
       "    </tr>\n",
       "    <tr>\n",
       "      <td>12</td>\n",
       "      <td>0.380532</td>\n",
       "      <td>0.396350</td>\n",
       "      <td>01:06</td>\n",
       "    </tr>\n",
       "    <tr>\n",
       "      <td>13</td>\n",
       "      <td>0.322995</td>\n",
       "      <td>0.362033</td>\n",
       "      <td>01:05</td>\n",
       "    </tr>\n",
       "    <tr>\n",
       "      <td>14</td>\n",
       "      <td>0.312322</td>\n",
       "      <td>0.355166</td>\n",
       "      <td>01:06</td>\n",
       "    </tr>\n",
       "  </tbody>\n",
       "</table>"
      ],
      "text/plain": [
       "<IPython.core.display.HTML object>"
      ]
     },
     "metadata": {},
     "output_type": "display_data"
    }
   ],
   "source": [
    "learn.fit_one_cycle(15, 0.05, wd=0.1)"
   ]
  },
  {
   "cell_type": "code",
   "execution_count": 22,
   "id": "18e11abf-20e6-41d1-8226-9dc6711806cd",
   "metadata": {
    "tags": []
   },
   "outputs": [
    {
     "data": {
      "text/plain": [
       "EmbeddingDotBias(\n",
       "  (u_weight): Embedding(2931, 10)\n",
       "  (i_weight): Embedding(2869, 10)\n",
       "  (u_bias): Embedding(2931, 1)\n",
       "  (i_bias): Embedding(2869, 1)\n",
       ")"
      ]
     },
     "execution_count": 22,
     "metadata": {},
     "output_type": "execute_result"
    }
   ],
   "source": [
    "learn.model"
   ]
  },
  {
   "cell_type": "markdown",
   "id": "763e8cbe-315c-42e8-9a83-edd9a1fdf0bc",
   "metadata": {},
   "source": [
    "## Interpretation"
   ]
  },
  {
   "cell_type": "markdown",
   "id": "867a0aa2-c100-4f4f-889f-e627f00e661f",
   "metadata": {},
   "source": [
    "### Bias"
   ]
  },
  {
   "cell_type": "code",
   "execution_count": 23,
   "id": "62e3d48f-e014-409e-b85d-69447b444714",
   "metadata": {
    "tags": []
   },
   "outputs": [
    {
     "data": {
      "text/plain": [
       "['POGAČAR Tadej',\n",
       " '#na#',\n",
       " 'EVENEPOEL Remco',\n",
       " 'VAN AERT Wout',\n",
       " 'ROGLIČ Primož',\n",
       " 'VLASOV Aleksandr',\n",
       " 'BILBAO Pello',\n",
       " 'YATES Adam',\n",
       " 'ALMEIDA João',\n",
       " 'VAN DER POEL Mathieu']"
      ]
     },
     "execution_count": 23,
     "metadata": {},
     "output_type": "execute_result"
    }
   ],
   "source": [
    "rider_bias = extract_bias(learn, \"rider\")\n",
    "[dls.classes[\"rider\"][i] for i in rider_bias.argsort(descending=True)[:10]]  # \"best\"/most consistent riders across all seasons"
   ]
  },
  {
   "cell_type": "code",
   "execution_count": 24,
   "id": "805dad84-68c5-4936-9100-eb246654f009",
   "metadata": {
    "tags": []
   },
   "outputs": [
    {
     "data": {
      "text/plain": [
       "['uae-tour/2023/stage-2',\n",
       " '#na#',\n",
       " 'tour-of-qinghai-lake/2021/',\n",
       " 'oxyclean-classic-brugge-de-panne/2023/',\n",
       " 'tour-of-qinghai-lake/2022/stage-1',\n",
       " 'e3-harelbeke/2023/',\n",
       " 'tour-of-qinghai-lake/2022/stage-3',\n",
       " 'gp-industria-artigianato/2023/',\n",
       " 'japan-cup/2022/',\n",
       " 'itzulia-basque-country/2022/']"
      ]
     },
     "execution_count": 24,
     "metadata": {},
     "output_type": "execute_result"
    }
   ],
   "source": [
    "race_bias = extract_bias(learn, \"stage\")\n",
    "[dls.classes[\"stage\"][i] for i in race_bias.argsort(descending=True)[:10]]"
   ]
  },
  {
   "cell_type": "markdown",
   "id": "5fe1f2ac-6d0d-49b1-97bf-c43c2efade3e",
   "metadata": {},
   "source": [
    "### PCA"
   ]
  },
  {
   "cell_type": "code",
   "execution_count": 25,
   "id": "a0002b2c-3d33-4373-a014-ff544cf4054a",
   "metadata": {
    "tags": []
   },
   "outputs": [
    {
     "data": {
      "image/png": "[encoded data removed]",
      "text/plain": [
       "<Figure size 700x700 with 1 Axes>"
      ]
     },
     "metadata": {},
     "output_type": "display_data"
    }
   ],
   "source": [
    "plot_pca(df, learn, \"rider\", n_plot=20)"
   ]
  },
  {
   "cell_type": "code",
   "execution_count": 26,
   "id": "eb1194fd-1bb1-4458-b539-53c5a917d288",
   "metadata": {
    "tags": []
   },
   "outputs": [
    {
     "data": {
      "image/png": "[encoded data removed]",
      "text/plain": [
       "<Figure size 700x700 with 1 Axes>"
      ]
     },
     "metadata": {},
     "output_type": "display_data"
    }
   ],
   "source": [
    "plot_pca(df, learn, \"stage\", n_plot=10)"
   ]
  },
  {
   "cell_type": "markdown",
   "id": "529de4b0-b086-49cf-9673-f59b40248322",
   "metadata": {},
   "source": [
    "### Similarity"
   ]
  },
  {
   "cell_type": "code",
   "execution_count": 27,
   "id": "87a1a784-aacc-46c1-acdd-253976a38e91",
   "metadata": {
    "tags": []
   },
   "outputs": [
    {
     "name": "stdout",
     "output_type": "stream",
     "text": [
      "VAN AERT Wout        | ['TRENTIN Matteo', 'MØRKØV Michael', 'BOASSON HAGEN Edvald', 'GIRMAY Biniam', 'BALLERINI Davide', 'BOL Cees', 'MEZGEC Luka']\n",
      "VAN DER POEL Mathieu | ['MOLARD Rudy', 'REICHENBACH Sébastien', 'LEKNESSUND Andreas', 'RODRÍGUEZ Cristián', 'SCHMID Mauro', 'HERMANS Ben', 'JORGENSON Matteo']\n",
      "VAN AVERMAET Greg    | ['KREDER Wesley', 'CARDIS Romain', 'IRVINE Declan', 'DELAPLACE Anthony', 'JAUREGUI Quentin', 'CALDEIRA Samuel José', 'WYSS Danilo']\n",
      "ALAPHILIPPE Julian   | ['SOSA Iván Ramiro', 'FOSS Tobias', 'KWIATKOWSKI Michał', 'JUNGELS Bob', 'WELLENS Tim', 'STORER Michael', 'PERNSTEINER Hermann']\n",
      "POGAČAR Tadej        | ['ROGLIČ Primož', 'ALMEIDA João', 'YATES Adam', 'LANDA Mikel', 'MAS Enric', 'HINDLEY Jai', 'EVENEPOEL Remco']\n",
      "EVENEPOEL Remco      | ['VINGEGAARD Jonas', 'BILBAO Pello', 'CARAPAZ Richard', 'VALVERDE Alejandro', 'BARDET Romain', 'VLASOV Aleksandr', 'GAUDU David']\n",
      "MAS Enric            | ['HINDLEY Jai', 'LANDA Mikel', 'YATES Adam', 'ALMEIDA João', 'EVENEPOEL Remco', 'ROGLIČ Primož', 'VINGEGAARD Jonas']\n"
     ]
    }
   ],
   "source": [
    "spotcheck_riders = [\"VAN AERT Wout\", \"VAN DER POEL Mathieu\", \"VAN AVERMAET Greg\", \"ALAPHILIPPE Julian\", \"POGAČAR Tadej\", \"EVENEPOEL Remco\", \"MAS Enric\"]\n",
    "for r in spotcheck_riders:\n",
    "    print(r.ljust(20), \"|\", extract_most_similar_elements(learn, \"rider\", r, 7))"
   ]
  },
  {
   "cell_type": "code",
   "execution_count": 28,
   "id": "dd921f85-649f-4a07-b76b-a52048534c41",
   "metadata": {
    "tags": []
   },
   "outputs": [
    {
     "name": "stdout",
     "output_type": "stream",
     "text": [
      "paris-roubaix/2022/\n",
      "['coppa-agostoni/2022/', 'czech-tour/2021/', 'ruta-del-sol/2021/stage-1', 'vuelta-asturias/2022/stage-2', 'tour-of-hainan/2018/stage-8', 'vuelta-ciclista-a-la-region-de-murcia/2019/stage-1', 'paris-roubaix/2022/', 'tour-of-britain/2019/stage-4', 'classic-grand-besancon-doubs/2023/', 'tour-of-belgium/2022/stage-3']\n",
      "\n",
      "dauphine/2019/stage-6\n",
      "['deia-trophy/2022/', 'mont-ventoux-denivele-challenge/2022/', 'gp-miguel-indurain/2019/', 'gran-camino/2022/stage-2', 'tour-of-norway/2022/stage-5', 'vuelta-asturias/2022/stage-3', 'paris-nice/2018/stage-8', 'strade-bianche/2021/', 'vuelta-a-burgos/2018/stage-3', 'gran-camino/2023/stage-3']\n",
      "\n",
      "liege-bastogne-liege/2019\n",
      "['#na#', 'tour-of-qinghai-lake/2021/', 'tour-of-qinghai-lake/2022/stage-1', 'tour-of-qinghai-lake/2022/stage-3', 'gp-industria-artigianato/2023/', 'maryland-cycling-classic/2022/', 'tour-of-qinghai-lake/2021/stage-8', 'oxyclean-classic-brugge-de-panne/2023/', 'trofeo-laigueglia/2023/', 'tour-of-qinghai-lake/2022/']\n",
      "\n"
     ]
    }
   ],
   "source": [
    "spotcheck_stages = [\"paris-roubaix/2022/\", \"dauphine/2019/stage-6\", \"liege-bastogne-liege/2019\"]\n",
    "for r in spotcheck_stages:\n",
    "    print(r, \"\\n\", extract_most_similar_elements(learn, \"stage\", r, 10), \"\\n\", sep=\"\")"
   ]
  }
 ],
 "metadata": {
  "kernelspec": {
   "display_name": "pcs",
   "language": "python",
   "name": "pcs"
  },
  "language_info": {
   "codemirror_mode": {
    "name": "ipython",
    "version": 3
   },
   "file_extension": ".py",
   "mimetype": "text/x-python",
   "name": "python",
   "nbconvert_exporter": "python",
   "pygments_lexer": "ipython3",
   "version": "3.9.13"
  }
 },
 "nbformat": 4,
 "nbformat_minor": 5
}
