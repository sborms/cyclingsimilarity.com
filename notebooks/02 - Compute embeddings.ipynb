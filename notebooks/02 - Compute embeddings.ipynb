{
 "cells": [
  {
   "cell_type": "markdown",
   "id": "2d7831bc-6b05-4933-848a-594b8d2ddf88",
   "metadata": {},
   "source": [
    "# Compute embeddings from race ranking data"
   ]
  },
  {
   "cell_type": "markdown",
   "id": "32f52688-3fc4-4bbe-b081-14da57bf3162",
   "metadata": {},
   "source": [
    "Here's the next step! The algorithm finds hidden factors (called embeddings) that summarize a racer's and a race's profile. Inspired from this [Kaggle notebook](https://www.kaggle.com/code/sborms/collaborative-filtering-deep-dive).\n",
    "\n",
    "A script version of part of this notebook is in `scripts/train.py`."
   ]
  },
  {
   "cell_type": "code",
   "execution_count": null,
   "id": "c0457b20-d81f-46cc-9b54-15cd60c989d5",
   "metadata": {
    "tags": []
   },
   "outputs": [],
   "source": [
    "print(f\"\\33[1m\\33[33mLet's go\\33[0m!\")"
   ]
  },
  {
   "cell_type": "markdown",
   "id": "f027820b-2f61-45b8-bbaf-db1e38b0e640",
   "metadata": {},
   "source": [
    "## Imports"
   ]
  },
  {
   "cell_type": "code",
   "execution_count": null,
   "id": "9925a5a5",
   "metadata": {
    "tags": []
   },
   "outputs": [],
   "source": [
    "import numpy as np\n",
    "import pandas as pd\n",
    "import matplotlib.pyplot as plt\n",
    "from fastai.collab import *\n",
    "from fastai.tabular.all import *\n",
    "from torch import nn"
   ]
  },
  {
   "cell_type": "markdown",
   "id": "7bcfdf5d-e92a-4589-8806-1a2147bd3a00",
   "metadata": {},
   "source": [
    "## Functions"
   ]
  },
  {
   "cell_type": "code",
   "execution_count": null,
   "id": "8537546f-7af2-43b3-83bd-045dbd5199a2",
   "metadata": {
    "tags": []
   },
   "outputs": [],
   "source": [
    "def normalize_results_by_race(df, how):\n",
    "    if how == \"0-1\":\n",
    "        return df.rank(axis=1, pct=True, ascending=False, na_option=\"keep\")  # 1.0 means first, 0.0 means last in race\n",
    "    if how == \"1-20\":\n",
    "        return df.clip(upper=20)  # logic is inversed here: higher values indicates lower performance\n",
    "    if how == \"bins\":\n",
    "        return df.apply(lambda x: pd.cut(x,\n",
    "                                         bins=[1, 3, 5, 10, 20, 200],  # podium, top-5, top-10, top-20, not in contention\n",
    "                                         labels=[5, 4, 3, 2, 1],  # from best to worse race result, NaN is not participated/finished\n",
    "                                         include_lowest=True\n",
    "                                        )\n",
    "                       )\n",
    "\n",
    "def get_year_weight(year, decay=0.25):\n",
    "    \"\"\"Give more weight to current and more recent years.\"\"\"  # bias seems to be impacted by how long riders are active\n",
    "    return np.exp(-decay * (CURR_YEAR - year))  # if decay factor is set higher, earlier years receive less weight\n",
    "\n",
    "def get_race_class_weight(race_class):\n",
    "    \"\"\"Give more weight to most important races.\"\"\"\n",
    "    return {\"UWT\": 2, \"Pro\": 1.5, \"1\": 0.75, \"2\": 0.5}[race_class]\n",
    "\n",
    "def get_stage_weight(stage: bool):\n",
    "    \"\"\"Give less weight to stages from a multi-stage race.\"\"\"\n",
    "    return 0.8 if stage is True else 1\n",
    "\n",
    "def get_gc_weight(gc: bool):\n",
    "    \"\"\"Give more weight to general classification outcomes.\"\"\"\n",
    "    return 1.25 if gc is True else 1\n",
    "\n",
    "def extract_factors(learn, dim):\n",
    "    return learn.model.u_weight.weight if dim == \"rider\" else learn.model.i_weight.weight if dim == \"stage\" else None\n",
    "\n",
    "def extract_bias(learn, dim):\n",
    "    return learn.model.u_bias.weight.squeeze() if dim == \"rider\" else learn.model.i_bias.weight.squeeze() if dim == \"stage\" else None\n",
    "\n",
    "def extract_most_similar_elements(learn, dim=\"rider\", element=\"VAN AERT Wout\", n=20):\n",
    "    assert dim in [\"rider\", \"stage\"], \"Dimension should be 'rider' or 'stage'.\"\n",
    "    factors = extract_factors(learn, dim)\n",
    "    idx = learn.dls.classes[dim].o2i[element]\n",
    "    sim = nn.CosineSimilarity(dim=1)(factors, factors[idx][None])\n",
    "    # pd.Series(sim.detach()).sort_values(ascending=False).reset_index(drop=True).plot()  # twisted S-shape\n",
    "    idx_topn = sim.argsort(descending=True)[1:(n+1)]\n",
    "    return learn.dls.classes[dim][idx_topn]\n",
    "\n",
    "def plot_pca(df, learn, dim, n_plot=50):\n",
    "    g = df.groupby(dim)[\"result\"].count()\n",
    "    top_dim = g.sort_values(ascending=False).index.values[:]  # takes riders with most races, or races with most participants\n",
    "    top_idxs = tensor([learn.dls.classes[dim].o2i[m] for m in top_dim])\n",
    "\n",
    "    factors = extract_factors(learn, dim)\n",
    "    w = factors[top_idxs].cpu().detach()\n",
    "\n",
    "    pca = w.pca(3)\n",
    "    fac0, fac1, fac2 = pca.t()\n",
    "    idxs = list(range(n_plot))\n",
    "    X, Y = fac0[idxs], fac2[idxs]\n",
    "\n",
    "    plt.figure(figsize=(7, 7))\n",
    "    plt.scatter(X, Y)\n",
    "    for i, x, y in zip(top_dim[idxs], X, Y):\n",
    "        plt.text(x, y, i, color=np.random.rand(3)*0.7, fontsize=9)\n",
    "    plt.show()"
   ]
  },
  {
   "cell_type": "markdown",
   "id": "a4550ac0-539d-4632-9ab2-71655fda9171",
   "metadata": {},
   "source": [
    "## Config"
   ]
  },
  {
   "cell_type": "code",
   "execution_count": null,
   "id": "0ebc5c78-6593-42bf-b377-18b3da69ffef",
   "metadata": {},
   "outputs": [],
   "source": [
    "BS = 64  # batch size\n",
    "NORMALIZE_HOW = \"bins\"  # \"0-1\", \"1-20\", \"bins\"\n",
    "MIN_N_PARTICIPATIONS = 20  # a rider is considered only if they did at least this amount of race participations\n",
    "N_FACTORS = 10  # number of hidden factors\n",
    "Y_RANGE = (0, 5.25 * 2)  # (0, 1) or (1, 20.5) or (0, 5.25), multiply by max. of race class weighting\n",
    "CURR_YEAR = 2023"
   ]
  },
  {
   "cell_type": "markdown",
   "id": "092d92d5-bb42-4277-a01f-9e64983136e9",
   "metadata": {
    "tags": []
   },
   "source": [
    "## Compute embeddings"
   ]
  },
  {
   "cell_type": "code",
   "execution_count": null,
   "id": "c7fb757b-af28-4b81-9b31-afa7c3f03d9a",
   "metadata": {
    "tags": []
   },
   "outputs": [],
   "source": [
    "df_results = pd.read_csv(\"../data/matrix_race_results.csv\",\n",
    "                         index_col=[0, 1, 2],\n",
    "                         dtype={\"year\": str, \"stage_slug\": str, \"class\": str})"
   ]
  },
  {
   "cell_type": "code",
   "execution_count": null,
   "id": "cf7d6cef-f543-4642-bd2c-e14b4ed15b1b",
   "metadata": {
    "tags": []
   },
   "outputs": [],
   "source": [
    "df_results = df_results[df_results.columns[df_results.count(axis=0) >= MIN_N_PARTICIPATIONS]]\n",
    "df_results.columns = df_results.columns.str.strip()  # some columns have trailing whitespaces"
   ]
  },
  {
   "cell_type": "code",
   "execution_count": null,
   "id": "e186fa79-9a09-4c21-a64b-88e2fcbc7a85",
   "metadata": {},
   "outputs": [],
   "source": [
    "df_results.filter(regex=\"VAN AERT Wout\").dropna().head()"
   ]
  },
  {
   "cell_type": "code",
   "execution_count": null,
   "id": "a16ef321-5522-4142-836a-6b72ce748491",
   "metadata": {
    "tags": []
   },
   "outputs": [],
   "source": [
    "df_results = normalize_results_by_race(df_results, how=NORMALIZE_HOW)\n",
    "df_results = df_results.astype(float)"
   ]
  },
  {
   "cell_type": "code",
   "execution_count": null,
   "id": "f582a8b3-93be-4f12-9cb5-b8945ca070dd",
   "metadata": {
    "tags": []
   },
   "outputs": [],
   "source": [
    "df_results.filter(regex=\"VAN AERT Wout\").dropna().head()"
   ]
  },
  {
   "cell_type": "code",
   "execution_count": null,
   "id": "e5857dfe-79e8-4e4c-94c3-8d645eeeaaa1",
   "metadata": {
    "tags": []
   },
   "outputs": [],
   "source": [
    "df_reweight = df_results.index.to_frame().reset_index(drop=True)"
   ]
  },
  {
   "cell_type": "code",
   "execution_count": null,
   "id": "f4210a4b-faba-41cf-b1af-bb30d9e08427",
   "metadata": {
    "tags": []
   },
   "outputs": [],
   "source": [
    "df_reweight[\"w_year\"] = df_reweight[\"year\"].astype(int).apply(get_year_weight)\n",
    "df_reweight[\"w_class\"] = df_reweight[\"class\"].str.partition(\".\")[2].apply(get_race_class_weight)\n",
    "df_reweight[\"w_stage\"] = df_reweight[\"stage_slug\"].str.contains(\"/stage-\").apply(get_stage_weight)\n",
    "df_reweight[\"w_gc\"] = ((df_reweight[\"class\"].str.contains(\"2\")) & (df_reweight[\"stage_slug\"].str.endswith(\"/\"))).apply(get_gc_weight)\n",
    "df_reweight[\"w\"] = df_reweight[\"w_year\"] * df_reweight[\"w_class\"] * df_reweight[\"w_stage\"] * df_reweight[\"w_gc\"]\n",
    "df_reweight.set_index([\"year\", \"stage_slug\", \"class\"], inplace=True)"
   ]
  },
  {
   "cell_type": "code",
   "execution_count": null,
   "id": "931de7d7-dd69-46e5-ad20-79f558c18458",
   "metadata": {
    "tags": []
   },
   "outputs": [],
   "source": [
    "print(sorted(np.round(df_reweight[\"w\"].unique(), 2)))"
   ]
  },
  {
   "cell_type": "code",
   "execution_count": null,
   "id": "74246a37-5222-4c2c-98d8-11f62e5ae266",
   "metadata": {
    "tags": []
   },
   "outputs": [],
   "source": [
    "# scale race results by weights\n",
    "df_results.loc[:, :] = df_results.to_numpy() * df_reweight[[\"w\"]].to_numpy()"
   ]
  },
  {
   "cell_type": "code",
   "execution_count": null,
   "id": "67b15245-625c-4aba-b550-d61d0fb827e7",
   "metadata": {
    "tags": []
   },
   "outputs": [],
   "source": [
    "df_results.filter(regex=\"VAN AERT Wout\").dropna().sample(5)"
   ]
  },
  {
   "cell_type": "code",
   "execution_count": null,
   "id": "7de3675e-afe8-497c-ac64-5e949dd7fe76",
   "metadata": {
    "tags": []
   },
   "outputs": [],
   "source": [
    "df = pd.melt(df_results.reset_index(drop=False).drop(columns=[\"year\", \"class\"]), id_vars=\"stage_slug\")\n",
    "df.rename(columns={\"stage_slug\": \"stage\", \"variable\": \"rider\", \"value\": \"result\"}, inplace=True)\n",
    "df = df[[\"rider\", \"stage\", \"result\"]]  # rider = user, stage (race) = item, result = rating"
   ]
  },
  {
   "cell_type": "code",
   "execution_count": null,
   "id": "de650f66-3c96-4f5e-a85f-25ff468f6ff3",
   "metadata": {
    "tags": []
   },
   "outputs": [],
   "source": [
    "df_ = df.dropna()\n",
    "df_.rider.nunique(), df_.stage.nunique()"
   ]
  },
  {
   "cell_type": "code",
   "execution_count": null,
   "id": "04b7b1cb-a8c7-4cfe-9d04-b67b935c6079",
   "metadata": {
    "tags": []
   },
   "outputs": [],
   "source": [
    "dls = CollabDataLoaders.from_df(df_, bs=BS)\n",
    "dls.show_batch()"
   ]
  },
  {
   "cell_type": "code",
   "execution_count": null,
   "id": "3268379a-ea32-4c21-ac43-1e422942f4b0",
   "metadata": {
    "tags": []
   },
   "outputs": [],
   "source": [
    "learn = collab_learner(dls, n_factors=N_FACTORS, y_range=Y_RANGE)"
   ]
  },
  {
   "cell_type": "code",
   "execution_count": null,
   "id": "dc144760-60cb-4351-a925-710bcd46e3ae",
   "metadata": {
    "tags": []
   },
   "outputs": [],
   "source": [
    "learn.lr_find()"
   ]
  },
  {
   "cell_type": "code",
   "execution_count": null,
   "id": "08a9ce9d-4dc7-4b21-8985-a3dc80c6781b",
   "metadata": {
    "tags": []
   },
   "outputs": [],
   "source": [
    "learn.fit_one_cycle(3, 0.05, wd=0.1)"
   ]
  },
  {
   "cell_type": "code",
   "execution_count": null,
   "id": "18e11abf-20e6-41d1-8226-9dc6711806cd",
   "metadata": {
    "tags": []
   },
   "outputs": [],
   "source": [
    "learn.model"
   ]
  },
  {
   "cell_type": "code",
   "execution_count": null,
   "id": "18c36e7a",
   "metadata": {},
   "outputs": [],
   "source": [
    "learn.export(\"../data/learner.pkl\")"
   ]
  },
  {
   "cell_type": "markdown",
   "id": "763e8cbe-315c-42e8-9a83-edd9a1fdf0bc",
   "metadata": {},
   "source": [
    "## Interpretation"
   ]
  },
  {
   "cell_type": "markdown",
   "id": "867a0aa2-c100-4f4f-889f-e627f00e661f",
   "metadata": {},
   "source": [
    "### Bias"
   ]
  },
  {
   "cell_type": "code",
   "execution_count": null,
   "id": "62e3d48f-e014-409e-b85d-69447b444714",
   "metadata": {
    "tags": []
   },
   "outputs": [],
   "source": [
    "rider_bias = extract_bias(learn, \"rider\")\n",
    "[dls.classes[\"rider\"][i] for i in rider_bias.argsort(descending=True)[:10]]  # \"best\"/most consistent riders across all seasons"
   ]
  },
  {
   "cell_type": "code",
   "execution_count": null,
   "id": "805dad84-68c5-4936-9100-eb246654f009",
   "metadata": {
    "tags": []
   },
   "outputs": [],
   "source": [
    "race_bias = extract_bias(learn, \"stage\")\n",
    "[dls.classes[\"stage\"][i] for i in race_bias.argsort(descending=True)[:10]]"
   ]
  },
  {
   "cell_type": "markdown",
   "id": "5fe1f2ac-6d0d-49b1-97bf-c43c2efade3e",
   "metadata": {},
   "source": [
    "### PCA"
   ]
  },
  {
   "cell_type": "code",
   "execution_count": null,
   "id": "a0002b2c-3d33-4373-a014-ff544cf4054a",
   "metadata": {
    "tags": []
   },
   "outputs": [],
   "source": [
    "plot_pca(df, learn, \"rider\", n_plot=20)"
   ]
  },
  {
   "cell_type": "code",
   "execution_count": null,
   "id": "eb1194fd-1bb1-4458-b539-53c5a917d288",
   "metadata": {
    "tags": []
   },
   "outputs": [],
   "source": [
    "# plot_pca(df, learn, \"stage\", n_plot=10)"
   ]
  },
  {
   "cell_type": "markdown",
   "id": "529de4b0-b086-49cf-9673-f59b40248322",
   "metadata": {},
   "source": [
    "### Similarity"
   ]
  },
  {
   "cell_type": "code",
   "execution_count": null,
   "id": "87a1a784-aacc-46c1-acdd-253976a38e91",
   "metadata": {
    "tags": []
   },
   "outputs": [],
   "source": [
    "spotcheck_riders = [\"VAN AERT Wout\", \"VAN DER POEL Mathieu\", \"VAN AVERMAET Greg\", \"ALAPHILIPPE Julian\", \"POGAČAR Tadej\", \"EVENEPOEL Remco\", \"MAS Enric\"]\n",
    "for r in spotcheck_riders:\n",
    "    print(r.ljust(20), \"|\", extract_most_similar_elements(learn, \"rider\", r, 7))"
   ]
  },
  {
   "cell_type": "code",
   "execution_count": null,
   "id": "dd921f85-649f-4a07-b76b-a52048534c41",
   "metadata": {
    "tags": []
   },
   "outputs": [],
   "source": [
    "spotcheck_stages = [\"paris-roubaix/2022/\", \"dauphine/2019/stage-6\", \"liege-bastogne-liege/2019\"]\n",
    "for r in spotcheck_stages:\n",
    "    print(r, \"\\n\", extract_most_similar_elements(learn, \"stage\", r, 10), \"\\n\", sep=\"\")"
   ]
  }
 ],
 "metadata": {
  "kernelspec": {
   "display_name": ".venv",
   "language": "python",
   "name": "python3"
  },
  "language_info": {
   "codemirror_mode": {
    "name": "ipython",
    "version": 3
   },
   "file_extension": ".py",
   "mimetype": "text/x-python",
   "name": "python",
   "nbconvert_exporter": "python",
   "pygments_lexer": "ipython3",
   "version": "3.9.13"
  }
 },
 "nbformat": 4,
 "nbformat_minor": 5
}
