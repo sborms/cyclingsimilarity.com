{
 "cells": [
  {
   "cell_type": "markdown",
   "id": "2d7831bc-6b05-4933-848a-594b8d2ddf88",
   "metadata": {},
   "source": [
    "## Gathering data from procyclingstats.com"
   ]
  },
  {
   "cell_type": "markdown",
   "id": "32f52688-3fc4-4bbe-b081-14da57bf3162",
   "metadata": {},
   "source": [
    "This notebook scrapes the input data from [procyclingstats.com](https://www.procyclingstats.com/) using the [**procyclingsstats**](https://github.com/themm1/procyclingstats) scraping library. I add some high-level cleaning and assembling functionality on top to make the scraping easier.\n",
    "\n",
    "It collects:\n",
    "- For a large number of riders from the best teams...\n",
    "- Metadata for each rider, but most importantly...\n",
    "- Their results in one-day or multi-stage...\n",
    "- High-level races...\n",
    "- For up to a few years in the past\n",
    "\n",
    "The data is transformed into a simple matrix (pandas DataFrame) format, so that it can be used in the next step's algorithm to find hidden factors (called embeddings) determining a racer's and a race's profile. All having to specify very little about the type of race! Ready, set, go!\n",
    "\n",
    "A script version of this notebook is in `scripts/scrape.py`."
   ]
  },
  {
   "cell_type": "markdown",
   "id": "f027820b-2f61-45b8-bbaf-db1e38b0e640",
   "metadata": {},
   "source": [
    "## Imports"
   ]
  },
  {
   "cell_type": "code",
   "execution_count": null,
   "id": "9925a5a5",
   "metadata": {
    "tags": []
   },
   "outputs": [],
   "source": [
    "import numpy as np\n",
    "import pandas as pd\n",
    "from sklearn.feature_extraction import DictVectorizer\n",
    "from procyclingstats import (\n",
    "    Race,          # Race(\"race/tour-de-france/2022/overview\").parse()\n",
    "    Rider,         # Rider(\"rider/tadej-pogacar\").parse()\n",
    "    Stage,         # Stage(\"race/tour-de-france/2018/stage-18\").parse()\n",
    "    Team,          # Team(\"team/bora-hansgrohe-2021\").parse()\n",
    "    RiderResults,  # RiderResults(\"rider/alberto-contador/results\").parse()\n",
    "    RaceStartlist,\n",
    "    RaceClimbs,\n",
    "    Ranking        # Ranking(\"rankings/me/individual\").parse() --> Summation of PCS points over a 12-month + 2 weeks overlap period\n",
    ")"
   ]
  },
  {
   "cell_type": "markdown",
   "id": "2d7406b1-bd29-45fe-942f-6a371bc5c977",
   "metadata": {},
   "source": [
    "The scraping classes I focus on are: `Race`, `Rider`, `Stage`, and `Team`."
   ]
  },
  {
   "cell_type": "markdown",
   "id": "7bcfdf5d-e92a-4589-8806-1a2147bd3a00",
   "metadata": {},
   "source": [
    "## Functions"
   ]
  },
  {
   "cell_type": "code",
   "execution_count": null,
   "id": "8537546f-7af2-43b3-83bd-045dbd5199a2",
   "metadata": {
    "tags": []
   },
   "outputs": [],
   "source": [
    "def try_to_parse(obj, slug, printit=False):\n",
    "    if printit:\n",
    "        print(f\"Parsing > {slug} ...\")\n",
    "    \n",
    "    p = None  # fallback\n",
    "    try:\n",
    "        p = obj(slug).parse()\n",
    "    except:\n",
    "        print(f\"Oopsie! This one failed: {slug}\")\n",
    "    return p\n",
    "\n",
    "def parse_results_from_stage(stage, rid=\"results\"):\n",
    "    results = None  # fallback\n",
    "    if stage is not None:\n",
    "        if stage[rid] is not None:\n",
    "            results = [(r[\"rider_name\"], r[\"rank\"]) for r in stage[rid]]  # e.g. [(WVA, 1), (MVDP, 2), (Pogiboy, 3), ...]\n",
    "    return results"
   ]
  },
  {
   "cell_type": "markdown",
   "id": "a4550ac0-539d-4632-9ab2-71655fda9171",
   "metadata": {},
   "source": [
    "## Config"
   ]
  },
  {
   "cell_type": "code",
   "execution_count": null,
   "id": "2f5a85a6-1d9d-48b5-ac60-a21a7474bfb8",
   "metadata": {
    "tags": []
   },
   "outputs": [],
   "source": [
    "YEARS = [2022, 2023]"
   ]
  },
  {
   "cell_type": "markdown",
   "id": "98fe15f8-6f04-4e09-b510-24a11fcf684d",
   "metadata": {},
   "source": [
    "I use the 2023 races as base calendar, inluding only UCI Worldtour, UCI ProSeries, and Europe Tour races. Of course, races change over the years but not so much. U23 (xU) and championships (NN/CC) races are dropped. I also had to remove a few duplicates. The idea is that we deduce the most important riders based on who participated in these races. Doing the inverse seems less straightforward with the API package."
   ]
  },
  {
   "cell_type": "code",
   "execution_count": null,
   "id": "12a57341-b4a4-42c2-bc11-174be48a545b",
   "metadata": {
    "tags": []
   },
   "outputs": [],
   "source": [
    "cutoff_date = \"2023-04-30\"\n",
    "print(cutoff_date)"
   ]
  },
  {
   "cell_type": "code",
   "execution_count": null,
   "id": "1045d2be-c034-4325-8961-33577e3943f8",
   "metadata": {},
   "outputs": [],
   "source": [
    "df_races = pd.read_excel(\"../data/races.xlsx\")\n",
    "df_races = df_races.dropna()\n",
    "RACES = df_races.set_index(\"Race\").transpose().to_dict(\"list\")"
   ]
  },
  {
   "cell_type": "code",
   "execution_count": null,
   "id": "32d92c0c-9be0-4c70-bb3a-474a514f5787",
   "metadata": {
    "tags": []
   },
   "outputs": [],
   "source": [
    "df_races.Class.unique().tolist()  # 1.x = one-day race, 2.x = multi-day race & .UWT > .Pro > .1 > .2"
   ]
  },
  {
   "cell_type": "markdown",
   "id": "092d92d5-bb42-4277-a01f-9e64983136e9",
   "metadata": {
    "tags": []
   },
   "source": [
    "## Parse results"
   ]
  },
  {
   "cell_type": "code",
   "execution_count": null,
   "id": "314eccee-0e79-41cf-99bd-6f9916e350a3",
   "metadata": {
    "tags": []
   },
   "outputs": [],
   "source": [
    "lst_out = []\n",
    "for year in YEARS:\n",
    "    races, classes, stages = [], [], []\n",
    "    print(f\"----- {year} -----\")\n",
    "    for race_key, race_info in RACES.items():  \n",
    "        _, race_class, race_slug = race_info\n",
    "        race_slug_full = f\"race/{race_slug}/{year}/overview\"   \n",
    "        race_p = try_to_parse(Race, race_slug_full)     \n",
    "        if race_p is None:\n",
    "            continue\n",
    "        else:\n",
    "            # do not process if race end date is beyond dataset cutoff date\n",
    "            # but keep going, because races are not ordered chronologically\n",
    "            if race_p[\"enddate\"] > cutoff_date:\n",
    "                continue\n",
    "            stage_slug_base = race_slug_full.replace(\"overview\", \"\")  # has general classification if multi-stage race\n",
    "            if race_p[\"is_one_day_race\"] is True:\n",
    "                stage_slugs = [stage_slug_base]  # single stage\n",
    "            elif \"stages\" in race_p:\n",
    "                stage_slugs = [stage_slug_base] + [s[\"stage_url\"] for s in race_p[\"stages\"]]  # multiple stages\n",
    "            races += [race_key] * len(stage_slugs)\n",
    "            classes += [race_class] * len(stage_slugs)\n",
    "            stages += stage_slugs\n",
    "    lst_out.append(pd.DataFrame({\"year\": year, \"race\": races, \"class\": classes, \"stage_slug\": stages}))\n",
    "    print(\"\")\n",
    "        \n",
    "df_races_out = pd.concat(lst_out)"
   ]
  },
  {
   "cell_type": "code",
   "execution_count": null,
   "id": "56cd35ee-1156-42e0-bd45-d8f55484e084",
   "metadata": {
    "tags": []
   },
   "outputs": [],
   "source": [
    "print(len(df_races_out))\n",
    "df_races_out.sample(10)"
   ]
  },
  {
   "cell_type": "code",
   "execution_count": null,
   "id": "de471cff-f2e4-4c9d-b33e-4d5fb2c72e05",
   "metadata": {
    "tags": []
   },
   "outputs": [],
   "source": [
    "df_races_out[\"parsed\"] = df_races_out[\"stage_slug\"].apply(lambda x: try_to_parse(Stage, x))"
   ]
  },
  {
   "cell_type": "code",
   "execution_count": null,
   "id": "0926268d-105a-424f-8941-5ce3b4f1342e",
   "metadata": {
    "tags": []
   },
   "outputs": [],
   "source": [
    "# handy to help developers debug > GitHub Issues\n",
    "# example: Stage(\"race/vuelta-a-espana/2022/stage-1\").parse() bugs because key of DNS rider is still considered but should be dropped\n",
    "stages_not_parsed = df_races_out[df_races_out.parsed.isnull()][\"stage_slug\"].tolist()\n",
    "print(f\"{len(stages_not_parsed)} out of {len(df_races_out)} race results were not parsed\")"
   ]
  },
  {
   "cell_type": "code",
   "execution_count": null,
   "id": "736e4d32-c42f-4ec7-9a4c-75bc21378eef",
   "metadata": {
    "tags": []
   },
   "outputs": [],
   "source": [
    "df_races_out.dropna(inplace=True)  # drop stages that couldn't be parsed"
   ]
  },
  {
   "cell_type": "code",
   "execution_count": null,
   "id": "3bd78002-ca6f-4fe6-934f-f748ff0700c7",
   "metadata": {
    "tags": []
   },
   "outputs": [],
   "source": [
    "df_races_out[\"results\"] = df_races_out[\"parsed\"].apply(parse_results_from_stage)"
   ]
  },
  {
   "cell_type": "code",
   "execution_count": null,
   "id": "eba0632e-9eb4-403f-b3a0-7e95a79645fb",
   "metadata": {
    "tags": []
   },
   "outputs": [],
   "source": [
    "# override results for multi-stage general classifications (gc) with actual gc outcome (not final-stage results)\n",
    "mask_gc = (df_races_out[\"class\"].str.contains(\"2\")) & (df_races_out[\"stage_slug\"].str.endswith(\"/\"))  # alternative: does not contain 'stage-' or 'prologue'\n",
    "df_races_out.loc[mask_gc, \"results\"] = df_races_out.loc[mask_gc, \"parsed\"].apply(parse_results_from_stage, rid=\"gc\")"
   ]
  },
  {
   "cell_type": "code",
   "execution_count": null,
   "id": "3819132d-3f72-4a00-b68c-d9127d72286d",
   "metadata": {
    "tags": []
   },
   "outputs": [],
   "source": [
    "df_races_out.shape"
   ]
  },
  {
   "cell_type": "code",
   "execution_count": null,
   "id": "bdd36ed3-20dd-4dcd-8238-1182e33a7cfa",
   "metadata": {
    "tags": []
   },
   "outputs": [],
   "source": [
    "vec = DictVectorizer()\n",
    "\n",
    "measurements = df_races_out[\"results\"].apply(lambda x: {} if x is None else dict(x))\n",
    "df_results = pd.DataFrame(\n",
    "    vec.fit_transform(measurements).toarray(),\n",
    "    columns=vec.get_feature_names_out(),\n",
    "    # set year, stage slug, and class as indices\n",
    "    index=pd.MultiIndex.from_frame(pd.concat([df_races_out[\"year\"],\n",
    "                                              df_races_out[\"stage_slug\"].str.replace(\"race/\", \"\"),\n",
    "                                              df_races_out[\"class\"]],\n",
    "                                             axis=1))\n",
    ")\n",
    "df_results.replace(0, np.nan, inplace=True)  # initially NaN = did not finish race, 0 = did not participate; this replace() drops distinction"
   ]
  },
  {
   "cell_type": "code",
   "execution_count": null,
   "id": "088f1f08-4214-4d3f-bd86-9ed727c23539",
   "metadata": {
    "tags": []
   },
   "outputs": [],
   "source": [
    "df_results.sample(5)"
   ]
  },
  {
   "cell_type": "code",
   "execution_count": null,
   "id": "0e710317-ee51-4234-82dd-54e59115ba43",
   "metadata": {
    "tags": []
   },
   "outputs": [],
   "source": [
    "df_results.filter(regex=\"VAN AERT Wout\").dropna().loc[2022]"
   ]
  },
  {
   "cell_type": "code",
   "execution_count": null,
   "id": "cbc1ef64-3689-4cef-b2ba-f8eb0f0a9d3b",
   "metadata": {
    "tags": []
   },
   "outputs": [],
   "source": [
    "print(df_results.shape)\n",
    "df_results = df_results.dropna(axis=0, how=\"all\")  # drop races that were cancelled or couldn't be parsed\n",
    "print(df_results.shape)"
   ]
  },
  {
   "cell_type": "code",
   "execution_count": null,
   "id": "04db659c-32a2-4e29-beb2-6ab765b87780",
   "metadata": {
    "tags": []
   },
   "outputs": [],
   "source": [
    "df_results.to_csv(\"../data/results_matrix.csv\", index=True)"
   ]
  }
 ],
 "metadata": {
  "kernelspec": {
   "display_name": "venv",
   "language": "python",
   "name": "python3"
  },
  "language_info": {
   "codemirror_mode": {
    "name": "ipython",
    "version": 3
   },
   "file_extension": ".py",
   "mimetype": "text/x-python",
   "name": "python",
   "nbconvert_exporter": "python",
   "pygments_lexer": "ipython3",
   "version": "3.9.13"
  }
 },
 "nbformat": 4,
 "nbformat_minor": 5
}
