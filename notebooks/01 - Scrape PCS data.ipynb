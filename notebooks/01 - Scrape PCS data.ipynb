{
 "cells": [
  {
   "cell_type": "markdown",
   "id": "2d7831bc-6b05-4933-848a-594b8d2ddf88",
   "metadata": {},
   "source": [
    "# Gathering data from procyclingstats.com"
   ]
  },
  {
   "cell_type": "markdown",
   "id": "32f52688-3fc4-4bbe-b081-14da57bf3162",
   "metadata": {},
   "source": [
    "This notebook scrapes the input data from [procyclingstats.com](https://www.procyclingstats.com/) using the [**procyclingsstats**](https://github.com/themm1/procyclingstats) scraping library. I add some high-level cleaning and assembling functionality on top to make the scraping easier.\n",
    "\n",
    "It collects:\n",
    "- For a large number of riders from the best teams...\n",
    "- Metadata for each rider, but most importantly...\n",
    "- Their results in one-day or multi-stage...\n",
    "- High-level races...\n",
    "- For up to a few years in the past\n",
    "\n",
    "The data is transformed into a simple matrix (pandas DataFrame) format, so that it can be used in the next step's algorithm to find hidden factors (called embeddings) determining a racer's and a race's profile. All having to specify very little about the type of race! Ready, set, go!\n",
    "\n",
    "A script version of this notebook is in `scripts/scrape.py`."
   ]
  },
  {
   "cell_type": "markdown",
   "id": "f027820b-2f61-45b8-bbaf-db1e38b0e640",
   "metadata": {},
   "source": [
    "## Imports"
   ]
  },
  {
   "cell_type": "code",
   "execution_count": null,
   "id": "9925a5a5",
   "metadata": {
    "tags": []
   },
   "outputs": [],
   "source": [
    "import re\n",
    "import numpy as np\n",
    "import pandas as pd\n",
    "from unidecode import unidecode\n",
    "from sklearn.feature_extraction import DictVectorizer\n",
    "from procyclingstats import (\n",
    "    Race,          # Race(\"race/tour-de-france/2022/overview\").parse()\n",
    "    Rider,         # Rider(\"rider/tadej-pogacar\").parse()\n",
    "    Stage,         # Stage(\"race/tour-de-france/2018/stage-18\").parse()\n",
    "    Team,          # Team(\"team/bora-hansgrohe-2021\").parse()\n",
    "    RiderResults,  # RiderResults(\"rider/alberto-contador/results\").parse()\n",
    "    RaceStartlist,\n",
    "    RaceClimbs,\n",
    "    Ranking        # Ranking(\"rankings/me/individual\").parse() --> Summation of PCS points over a 12-month + 2 weeks overlap period\n",
    ")"
   ]
  },
  {
   "cell_type": "markdown",
   "id": "2d7406b1-bd29-45fe-942f-6a371bc5c977",
   "metadata": {},
   "source": [
    "The scraping classes I focus on are: `Race`, `Rider`, `Stage`, and `Team`."
   ]
  },
  {
   "cell_type": "markdown",
   "id": "7bcfdf5d-e92a-4589-8806-1a2147bd3a00",
   "metadata": {},
   "source": [
    "## Functions"
   ]
  },
  {
   "cell_type": "code",
   "execution_count": null,
   "id": "8537546f-7af2-43b3-83bd-045dbd5199a2",
   "metadata": {
    "tags": []
   },
   "outputs": [],
   "source": [
    "def try_to_parse(obj, slug, printit=False):\n",
    "    if printit:\n",
    "        print(f\"Parsing > {slug} ...\")\n",
    "    \n",
    "    parsed = None  # fallback\n",
    "    try:\n",
    "        parsed = obj(slug).parse()\n",
    "    except:\n",
    "        print(f\"Oopsie! This one failed: {slug}\")\n",
    "    return parsed\n",
    "\n",
    "def parse_results_from_stage(slug, parsed):\n",
    "    results = None  # fallback\n",
    "    if parsed is not None:\n",
    "        try:\n",
    "            rid = {\"gc\": \"gc\", \"result\": \"results\"}[slug.split(\"/\")[-1]]\n",
    "        except KeyError:\n",
    "            return results\n",
    "        if parsed[rid] is not None:\n",
    "            results = [(r[\"rider_name\"], r[\"rank\"]) for r in parsed[rid]]  # e.g. [(WVA, 1), (MVDP, 2), (Pogiboy, 3), ...]\n",
    "    return results\n",
    "\n",
    "def clean_rider_name(name):\n",
    "    return re.sub(r\"\\s+\", \" \", name.replace(\"\\t\", \"\"))\n",
    "\n",
    "def convert_name_to_slug(name):\n",
    "    \"\"\"Convert input from 'FAMILY NAME First Name' to 'first-name-family-name'.\"\"\"\n",
    "    # these manual conversions are of important riders\n",
    "    # with a different slug than their used name\n",
    "    dict_manual_conversions = {\n",
    "        \"CORT Magnus\": \"magnus-cort-nielsen\",\n",
    "        \"AYUSO Juan\": \"juan-ayuso-pesquera\",\n",
    "        \"FROOME Chris\": \"christopher-froome\",\n",
    "        \"DUNBAR Eddie\": \"edward-irl-dunbar\",\n",
    "        \"RODRÍGUEZ Carlos\": \"carlos-rodriguez-cano\",\n",
    "        \"BARTA Will\": \"william-barta\",\n",
    "        \"HONORÉ Mikkel Frølich\": \"mikkel-honore\",\n",
    "        \"HERRADA Jesús\": \"jesus-herrada-lopez\",\n",
    "        \"GROßSCHARTNER Felix\": \"felix-grossschartner\",\n",
    "        \"DREßLER Luca\": \"luca-dressler\",\n",
    "        \"BUITRAGO Santiago\": \"santiago-buitrago-sanchez\",\n",
    "        \"CHAVES Esteban\": \"johan-esteban-chaves\",\n",
    "        \"MÜLLER Tobias\": \"tobias-muller1\",\n",
    "        \"RÜEGG Timon\": \"timin-ruegg\",\n",
    "        \"SCULLY Tom\": \"thomas-scully\",\n",
    "        \"SKJELMOSE Mattias\": \"mattias-skjelmose-jensen\",\n",
    "        \"VALGREN Michael\": \"michael-valgren-andersen\",\n",
    "        \"VINGEGAARD Jonas\": \"jonas-vingegaard-rasmussen\",\n",
    "        \"WRIGHT Fred\": \"alfred-wright\"\n",
    "    }\n",
    "    if name in dict_manual_conversions.keys():\n",
    "        return dict_manual_conversions[name]\n",
    "\n",
    "    slug = \"-\".join([_.lower() for _ in name.split(\" \") if not _.isupper()] +\n",
    "                    [_.lower() for _ in name.split(\" \") if _.isupper()])\n",
    "    \n",
    "    slug = slug.replace(\"--\", \"-\")\n",
    "    slug = slug.replace(\"'\", \"-\")\n",
    "    slug = unidecode(slug)\n",
    "\n",
    "    return slug"
   ]
  },
  {
   "cell_type": "markdown",
   "id": "a4550ac0-539d-4632-9ab2-71655fda9171",
   "metadata": {},
   "source": [
    "## Config"
   ]
  },
  {
   "cell_type": "code",
   "execution_count": null,
   "id": "2f5a85a6-1d9d-48b5-ac60-a21a7474bfb8",
   "metadata": {
    "tags": []
   },
   "outputs": [],
   "source": [
    "YEARS = [2022, 2023]"
   ]
  },
  {
   "cell_type": "markdown",
   "id": "98fe15f8-6f04-4e09-b510-24a11fcf684d",
   "metadata": {},
   "source": [
    "I use the 2023 races as base calendar, inluding only UCI Worldtour, UCI ProSeries, and Europe Tour races. Of course, races (and race names) change over the years but not so much. U23 (xU) and championships (NN/CC) races are dropped. I also had to remove a few duplicates. The idea is that we deduce the most important riders based on who participated in these races. Doing the inverse seems less straightforward with the API package."
   ]
  },
  {
   "cell_type": "code",
   "execution_count": null,
   "id": "12a57341-b4a4-42c2-bc11-174be48a545b",
   "metadata": {
    "tags": []
   },
   "outputs": [],
   "source": [
    "CUTOFFDATE = \"2023-04-30\"\n",
    "print(CUTOFFDATE)"
   ]
  },
  {
   "cell_type": "code",
   "execution_count": null,
   "id": "1045d2be-c034-4325-8961-33577e3943f8",
   "metadata": {},
   "outputs": [],
   "source": [
    "df_races = pd.read_csv(\"../data/races.csv\", delimiter=\";\", encoding=\"latin-1\")\n",
    "df_races = df_races.dropna()"
   ]
  },
  {
   "cell_type": "code",
   "execution_count": null,
   "id": "32d92c0c-9be0-4c70-bb3a-474a514f5787",
   "metadata": {
    "tags": []
   },
   "outputs": [],
   "source": [
    "df_races.Class.unique().tolist()  # 1.x = one-day race, 2.x = multi-day race & .UWT > .Pro > .1 > .2"
   ]
  },
  {
   "cell_type": "markdown",
   "id": "092d92d5-bb42-4277-a01f-9e64983136e9",
   "metadata": {
    "tags": []
   },
   "source": [
    "## Parse results"
   ]
  },
  {
   "cell_type": "code",
   "execution_count": null,
   "id": "314eccee-0e79-41cf-99bd-6f9916e350a3",
   "metadata": {
    "tags": []
   },
   "outputs": [],
   "source": [
    "df_races_out_list = []\n",
    "for year in YEARS:\n",
    "    races, classes, stages = [], [], []\n",
    "    for i, row in df_races.iterrows():\n",
    "        race_key, _, race_class, race_slug = row\n",
    "        \n",
    "        race_slug_full = f\"race/{race_slug}/{year}/overview\"\n",
    "        race_p = try_to_parse(Race, race_slug_full)     \n",
    "        if race_p is None:\n",
    "            continue\n",
    "        else:\n",
    "            # do not process if race end date is beyond dataset cutoff date\n",
    "            # but keep going, because races are not ordered chronologically\n",
    "            if race_p[\"enddate\"] > CUTOFFDATE:\n",
    "                continue\n",
    "            \n",
    "            stage_slug_base = race_slug_full.replace(\"/overview\", \"\")  # has general classification if multi-stage race\n",
    "            if race_p[\"is_one_day_race\"] is True:\n",
    "                stage_slugs = [f\"{stage_slug_base}/result\"]  # one-day race\n",
    "            elif \"stages\" in race_p:\n",
    "                stage_slugs = [f\"{stage_slug_base}/gc\"] + [f\"{s['stage_url']}/result\" for s in race_p[\"stages\"]]  # multiple stages\n",
    "            \n",
    "            races += [race_key] * len(stage_slugs)\n",
    "            classes += [race_class] * len(stage_slugs)\n",
    "            stages += stage_slugs\n",
    "    \n",
    "    df_races_out_list.append(pd.DataFrame({\"year\": year, \"race\": races, \"class\": classes, \"stage_slug\": stages}))\n",
    "        \n",
    "df_races_out = pd.concat(df_races_out_list)"
   ]
  },
  {
   "cell_type": "code",
   "execution_count": null,
   "id": "56cd35ee-1156-42e0-bd45-d8f55484e084",
   "metadata": {
    "tags": []
   },
   "outputs": [],
   "source": [
    "print(len(df_races_out))\n",
    "df_races_out.head(15)"
   ]
  },
  {
   "cell_type": "code",
   "execution_count": null,
   "id": "de471cff-f2e4-4c9d-b33e-4d5fb2c72e05",
   "metadata": {
    "tags": []
   },
   "outputs": [],
   "source": [
    "df_races_out[\"parsed\"] = df_races_out[\"stage_slug\"].apply(lambda x: try_to_parse(Stage, x))"
   ]
  },
  {
   "cell_type": "code",
   "execution_count": null,
   "id": "0926268d-105a-424f-8941-5ce3b4f1342e",
   "metadata": {
    "tags": []
   },
   "outputs": [],
   "source": [
    "# handy to keep track of issues\n",
    "stages_not_parsed = df_races_out[df_races_out.parsed.isnull()][\"stage_slug\"].tolist()\n",
    "print(f\"{len(stages_not_parsed)} out of {len(df_races_out)} race results were not parsed\")"
   ]
  },
  {
   "cell_type": "code",
   "execution_count": null,
   "id": "736e4d32-c42f-4ec7-9a4c-75bc21378eef",
   "metadata": {
    "tags": []
   },
   "outputs": [],
   "source": [
    "df_races_out.dropna(subset=[\"parsed\"], inplace=True)  # drop stages that couldn't be parsed"
   ]
  },
  {
   "cell_type": "code",
   "execution_count": null,
   "id": "3bd78002-ca6f-4fe6-934f-f748ff0700c7",
   "metadata": {
    "tags": []
   },
   "outputs": [],
   "source": [
    "df_races_out[\"results\"] = df_races_out[[\"stage_slug\", \"parsed\"]].apply(lambda x: parse_results_from_stage(*x), axis=1)"
   ]
  },
  {
   "cell_type": "code",
   "execution_count": null,
   "id": "3819132d-3f72-4a00-b68c-d9127d72286d",
   "metadata": {
    "tags": []
   },
   "outputs": [],
   "source": [
    "df_races_out.shape"
   ]
  },
  {
   "cell_type": "code",
   "execution_count": null,
   "id": "0cf5102d",
   "metadata": {},
   "outputs": [],
   "source": [
    "df_races_out[\"parsed\"].iloc[0][\"race_startlist_quality_score\"]"
   ]
  },
  {
   "cell_type": "code",
   "execution_count": null,
   "id": "fc94e300",
   "metadata": {},
   "outputs": [],
   "source": [
    "df_races_out[\"parsed\"].iloc[0].keys()"
   ]
  },
  {
   "cell_type": "code",
   "execution_count": null,
   "id": "bdd36ed3-20dd-4dcd-8238-1182e33a7cfa",
   "metadata": {
    "tags": []
   },
   "outputs": [],
   "source": [
    "vec = DictVectorizer()\n",
    "\n",
    "measurements = df_races_out[\"results\"].apply(lambda x: {} if x is None else dict(x))\n",
    "df_results = pd.DataFrame(\n",
    "    vec.fit_transform(measurements).toarray(),\n",
    "    columns=vec.get_feature_names_out(),\n",
    "    # set year, stage slug, and class as indices\n",
    "    index=pd.MultiIndex.from_frame(pd.concat([df_races_out[\"year\"],\n",
    "                                              df_races_out[\"stage_slug\"].str.replace(\"race/\", \"\"),\n",
    "                                              df_races_out[\"class\"]],\n",
    "                                             axis=1))\n",
    ")\n",
    "\n",
    "df_results.replace(0, np.nan, inplace=True)  # initially NaN = did not finish race, 0 = did not participate; this replace() drops distinction"
   ]
  },
  {
   "cell_type": "code",
   "execution_count": null,
   "id": "088f1f08-4214-4d3f-bd86-9ed727c23539",
   "metadata": {
    "tags": []
   },
   "outputs": [],
   "source": [
    "df_results.sample(5)"
   ]
  },
  {
   "cell_type": "code",
   "execution_count": null,
   "id": "0e710317-ee51-4234-82dd-54e59115ba43",
   "metadata": {
    "tags": []
   },
   "outputs": [],
   "source": [
    "df_results.filter(regex=\"VAN AERT Wout\").dropna().loc[2022]"
   ]
  },
  {
   "cell_type": "code",
   "execution_count": null,
   "id": "cbc1ef64-3689-4cef-b2ba-f8eb0f0a9d3b",
   "metadata": {
    "tags": []
   },
   "outputs": [],
   "source": [
    "print(df_results.shape)\n",
    "df_results = df_results.dropna(axis=0, how=\"all\")  # drop races that were cancelled or couldn't be parsed\n",
    "print(df_results.shape)"
   ]
  },
  {
   "cell_type": "code",
   "execution_count": null,
   "id": "4d35d943",
   "metadata": {},
   "outputs": [],
   "source": [
    "df_results.columns = [clean_rider_name(c) for c in df_results.columns]"
   ]
  },
  {
   "cell_type": "markdown",
   "id": "de289eb4",
   "metadata": {},
   "source": [
    "## Parse riders data"
   ]
  },
  {
   "cell_type": "code",
   "execution_count": null,
   "id": "831bbe83",
   "metadata": {},
   "outputs": [],
   "source": [
    "riders_all = sorted(df_results.columns)\n",
    "\n",
    "birth_dates, nationalities = [], []\n",
    "for rider_name in riders_all:\n",
    "    rider_slug = convert_name_to_slug(rider_name)\n",
    "    try:\n",
    "        rider = Rider(f\"rider/{rider_slug}\")\n",
    "        birth_dates.append(rider.birthdate())\n",
    "        nationalities.append(rider.nationality())\n",
    "    except (ValueError, AttributeError):\n",
    "        print(f\"Damn! Rider not found: {rider_name} --> {rider_slug}\")\n",
    "        birth_dates.append(None)\n",
    "        nationalities.append(None)\n",
    "        continue"
   ]
  },
  {
   "cell_type": "code",
   "execution_count": null,
   "id": "53f60281",
   "metadata": {},
   "outputs": [],
   "source": [
    "df_riders = pd.DataFrame({\n",
    "    \"name\": riders_all,\n",
    "    \"birth_date\": birth_dates,\n",
    "    \"nationality\": nationalities\n",
    "})"
   ]
  },
  {
   "cell_type": "code",
   "execution_count": null,
   "id": "006f3608",
   "metadata": {},
   "outputs": [],
   "source": [
    "df_riders"
   ]
  },
  {
   "cell_type": "code",
   "execution_count": null,
   "id": "411d058d",
   "metadata": {},
   "outputs": [],
   "source": [
    "print(df_riders.shape)\n",
    "df_riders.dropna(inplace=True)\n",
    "print(df_riders.shape)"
   ]
  },
  {
   "cell_type": "markdown",
   "id": "174ef5d6",
   "metadata": {},
   "source": [
    "## Merge and store data"
   ]
  },
  {
   "cell_type": "code",
   "execution_count": null,
   "id": "c538a5c8",
   "metadata": {},
   "outputs": [],
   "source": [
    "df_results = df_results[[r for r in df_results.columns if r in df_riders.name.tolist()]]"
   ]
  },
  {
   "cell_type": "code",
   "execution_count": null,
   "id": "21feb59f",
   "metadata": {},
   "outputs": [],
   "source": [
    "df_riders.shape[0], df_results.shape[1]"
   ]
  },
  {
   "cell_type": "code",
   "execution_count": null,
   "id": "d007fb8a",
   "metadata": {},
   "outputs": [],
   "source": [
    "df_riders.to_csv(\"../data/riders_data.csv\", index=False)"
   ]
  },
  {
   "cell_type": "code",
   "execution_count": null,
   "id": "04db659c-32a2-4e29-beb2-6ab765b87780",
   "metadata": {
    "tags": []
   },
   "outputs": [],
   "source": [
    "df_results.to_csv(\"../data/matrix_race_results.csv\", index=True)"
   ]
  }
 ],
 "metadata": {
  "kernelspec": {
   "display_name": "venv",
   "language": "python",
   "name": "python3"
  },
  "language_info": {
   "codemirror_mode": {
    "name": "ipython",
    "version": 3
   },
   "file_extension": ".py",
   "mimetype": "text/x-python",
   "name": "python",
   "nbconvert_exporter": "python",
   "pygments_lexer": "ipython3",
   "version": "3.9.13"
  }
 },
 "nbformat": 4,
 "nbformat_minor": 5
}
