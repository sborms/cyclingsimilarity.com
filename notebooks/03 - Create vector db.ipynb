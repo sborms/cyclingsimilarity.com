{
 "cells": [
  {
   "cell_type": "markdown",
   "id": "2d7831bc-6b05-4933-848a-594b8d2ddf88",
   "metadata": {},
   "source": [
    "## Create a vector database from embeddings"
   ]
  },
  {
   "cell_type": "markdown",
   "id": "32f52688-3fc4-4bbe-b081-14da57bf3162",
   "metadata": {},
   "source": [
    "_Note_: In the actual implementation to find similar cyclists we stuck with the collaborative learner model object that we stored on AWS S3. Creating a vector database (e.g. with FAISS or Pinecone) consists of a more advanced alternative. Once the algorithm finds the optimized embeddings, you could indeed put those into a vector database for easier management and similarity search. You would add the code for vector database creation and updating to `scripts/train.py`. This brief notebook is a primer to such a solution."
   ]
  },
  {
   "cell_type": "markdown",
   "id": "f027820b-2f61-45b8-bbaf-db1e38b0e640",
   "metadata": {},
   "source": [
    "## Imports"
   ]
  },
  {
   "cell_type": "code",
   "execution_count": 1,
   "id": "9925a5a5",
   "metadata": {
    "tags": []
   },
   "outputs": [],
   "source": [
    "import faiss\n",
    "import numpy as np\n",
    "import pandas as pd\n",
    "from fastai.collab import load_learner"
   ]
  },
  {
   "cell_type": "markdown",
   "id": "092d92d5-bb42-4277-a01f-9e64983136e9",
   "metadata": {
    "tags": []
   },
   "source": [
    "## Create vector db"
   ]
  },
  {
   "cell_type": "code",
   "execution_count": 2,
   "id": "c7fb757b-af28-4b81-9b31-afa7c3f03d9a",
   "metadata": {
    "tags": []
   },
   "outputs": [],
   "source": [
    "learn = load_learner(\"../api/learner.pkl\")"
   ]
  },
  {
   "cell_type": "code",
   "execution_count": 3,
   "id": "f7b79423",
   "metadata": {},
   "outputs": [],
   "source": [
    "vectors = learn.model.u_weight.weight.detach().numpy()  # cyclist embeddings"
   ]
  },
  {
   "cell_type": "code",
   "execution_count": 4,
   "id": "3857e70b",
   "metadata": {},
   "outputs": [],
   "source": [
    "faiss.normalize_L2(vectors)\n",
    "index = faiss.IndexFlatL2(vectors.shape[1])\n",
    "index.add(vectors)"
   ]
  },
  {
   "cell_type": "code",
   "execution_count": 5,
   "id": "66d82d49",
   "metadata": {},
   "outputs": [],
   "source": [
    "# faiss.write_index(index, \"../api/faiss_cyclists.index\")\n",
    "# index = faiss.read_index(\"../api/faiss_cyclists.index\")"
   ]
  },
  {
   "cell_type": "code",
   "execution_count": 6,
   "id": "a49510dd",
   "metadata": {},
   "outputs": [
    {
     "data": {
      "text/html": [
       "<div>\n",
       "<style scoped>\n",
       "    .dataframe tbody tr th:only-of-type {\n",
       "        vertical-align: middle;\n",
       "    }\n",
       "\n",
       "    .dataframe tbody tr th {\n",
       "        vertical-align: top;\n",
       "    }\n",
       "\n",
       "    .dataframe thead th {\n",
       "        text-align: right;\n",
       "    }\n",
       "</style>\n",
       "<table border=\"1\" class=\"dataframe\">\n",
       "  <thead>\n",
       "    <tr style=\"text-align: right;\">\n",
       "      <th></th>\n",
       "      <th>distances</th>\n",
       "      <th>ann</th>\n",
       "      <th>cyclist</th>\n",
       "    </tr>\n",
       "  </thead>\n",
       "  <tbody>\n",
       "    <tr>\n",
       "      <th>0</th>\n",
       "      <td>0.000000</td>\n",
       "      <td>2628</td>\n",
       "      <td>VAN AERT Wout</td>\n",
       "    </tr>\n",
       "    <tr>\n",
       "      <th>1</th>\n",
       "      <td>0.002423</td>\n",
       "      <td>2006</td>\n",
       "      <td>PHILIPSEN Jasper</td>\n",
       "    </tr>\n",
       "    <tr>\n",
       "      <th>2</th>\n",
       "      <td>0.003056</td>\n",
       "      <td>1382</td>\n",
       "      <td>KRISTOFF Alexander</td>\n",
       "    </tr>\n",
       "    <tr>\n",
       "      <th>3</th>\n",
       "      <td>0.003733</td>\n",
       "      <td>1213</td>\n",
       "      <td>JAKOBSEN Fabio</td>\n",
       "    </tr>\n",
       "    <tr>\n",
       "      <th>4</th>\n",
       "      <td>0.003798</td>\n",
       "      <td>572</td>\n",
       "      <td>DAINESE Alberto</td>\n",
       "    </tr>\n",
       "    <tr>\n",
       "      <th>...</th>\n",
       "      <td>...</td>\n",
       "      <td>...</td>\n",
       "      <td>...</td>\n",
       "    </tr>\n",
       "    <tr>\n",
       "      <th>2926</th>\n",
       "      <td>0.134902</td>\n",
       "      <td>255</td>\n",
       "      <td>BILBAO Pello</td>\n",
       "    </tr>\n",
       "    <tr>\n",
       "      <th>2927</th>\n",
       "      <td>0.141526</td>\n",
       "      <td>2204</td>\n",
       "      <td>ROGLIČ Primož</td>\n",
       "    </tr>\n",
       "    <tr>\n",
       "      <th>2928</th>\n",
       "      <td>0.143936</td>\n",
       "      <td>415</td>\n",
       "      <td>CARAPAZ Richard</td>\n",
       "    </tr>\n",
       "    <tr>\n",
       "      <th>2929</th>\n",
       "      <td>0.170000</td>\n",
       "      <td>787</td>\n",
       "      <td>EVENEPOEL Remco</td>\n",
       "    </tr>\n",
       "    <tr>\n",
       "      <th>2930</th>\n",
       "      <td>2.070879</td>\n",
       "      <td>0</td>\n",
       "      <td>#na#</td>\n",
       "    </tr>\n",
       "  </tbody>\n",
       "</table>\n",
       "<p>2931 rows × 3 columns</p>\n",
       "</div>"
      ],
      "text/plain": [
       "      distances   ann             cyclist\n",
       "0      0.000000  2628       VAN AERT Wout\n",
       "1      0.002423  2006    PHILIPSEN Jasper\n",
       "2      0.003056  1382  KRISTOFF Alexander\n",
       "3      0.003733  1213      JAKOBSEN Fabio\n",
       "4      0.003798   572     DAINESE Alberto\n",
       "...         ...   ...                 ...\n",
       "2926   0.134902   255        BILBAO Pello\n",
       "2927   0.141526  2204       ROGLIČ Primož\n",
       "2928   0.143936   415     CARAPAZ Richard\n",
       "2929   0.170000   787     EVENEPOEL Remco\n",
       "2930   2.070879     0                #na#\n",
       "\n",
       "[2931 rows x 3 columns]"
      ]
     },
     "execution_count": 6,
     "metadata": {},
     "output_type": "execute_result"
    }
   ],
   "source": [
    "search_vector = vectors[2628, :]  # Wout van Aert\n",
    "\n",
    "_vector = np.array([search_vector])\n",
    "faiss.normalize_L2(_vector)\n",
    "\n",
    "distances, ann = index.search(_vector, k=index.ntotal)\n",
    "\n",
    "results = pd.DataFrame({\"distances\": distances[0],\n",
    "                        \"ann\": ann[0],\n",
    "                        \"cyclist\": learn.dls.classes[\"rider\"][ann[0]]})\n",
    "results"
   ]
  }
 ],
 "metadata": {
  "kernelspec": {
   "display_name": ".venv",
   "language": "python",
   "name": "python3"
  },
  "language_info": {
   "codemirror_mode": {
    "name": "ipython",
    "version": 3
   },
   "file_extension": ".py",
   "mimetype": "text/x-python",
   "name": "python",
   "nbconvert_exporter": "python",
   "pygments_lexer": "ipython3",
   "version": "3.10.9"
  }
 },
 "nbformat": 4,
 "nbformat_minor": 5
}
