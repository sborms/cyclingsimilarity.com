{
 "cells": [
  {
   "cell_type": "markdown",
   "id": "2d7831bc-6b05-4933-848a-594b8d2ddf88",
   "metadata": {},
   "source": [
    "## Create a vector database from embeddings"
   ]
  },
  {
   "cell_type": "markdown",
   "id": "32f52688-3fc4-4bbe-b081-14da57bf3162",
   "metadata": {},
   "source": [
    "Once the algorithm found the optimized embeddings, let's put those into a vector database for easier management and similarity search.\n",
    "\n",
    "The vector database creation or updating is added to `scripts/train.py`."
   ]
  },
  {
   "cell_type": "markdown",
   "id": "f027820b-2f61-45b8-bbaf-db1e38b0e640",
   "metadata": {},
   "source": [
    "## Imports"
   ]
  },
  {
   "cell_type": "code",
   "execution_count": 1,
   "id": "9925a5a5",
   "metadata": {
    "tags": []
   },
   "outputs": [],
   "source": [
    "import faiss\n",
    "import numpy as np\n",
    "from fastai.collab import load_learner"
   ]
  },
  {
   "cell_type": "markdown",
   "id": "092d92d5-bb42-4277-a01f-9e64983136e9",
   "metadata": {
    "tags": []
   },
   "source": [
    "## Create vector db"
   ]
  },
  {
   "cell_type": "code",
   "execution_count": 2,
   "id": "c7fb757b-af28-4b81-9b31-afa7c3f03d9a",
   "metadata": {
    "tags": []
   },
   "outputs": [],
   "source": [
    "learn = load_learner(\"../api/learner.pkl\")"
   ]
  },
  {
   "cell_type": "code",
   "execution_count": null,
   "id": "a49510dd",
   "metadata": {},
   "outputs": [],
   "source": [
    "vector_dimension = vectors.shape[1]\n",
    "index = faiss.IndexFlatL2(vector_dimension)\n",
    "faiss.normalize_L2(vectors)\n",
    "index.add(vectors)\n",
    "\n",
    "_vector = np.array([search_vector])\n",
    "faiss.normalize_L2(_vector)\n",
    "\n",
    "k = index.ntotal\n",
    "distances, ann = index.search(_vector, k=k)\n",
    "\n",
    "results = pd.DataFrame({'distances': distances[0], 'ann': ann[0]})"
   ]
  }
 ],
 "metadata": {
  "kernelspec": {
   "display_name": ".venv",
   "language": "python",
   "name": "python3"
  },
  "language_info": {
   "codemirror_mode": {
    "name": "ipython",
    "version": 3
   },
   "file_extension": ".py",
   "mimetype": "text/x-python",
   "name": "python",
   "nbconvert_exporter": "python",
   "pygments_lexer": "ipython3",
   "version": "3.9.13"
  }
 },
 "nbformat": 4,
 "nbformat_minor": 5
}
