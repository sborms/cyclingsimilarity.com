{
 "cells": [
  {
   "cell_type": "markdown",
   "id": "2d7831bc-6b05-4933-848a-594b8d2ddf88",
   "metadata": {},
   "source": [
    "# Create a vector database from embeddings"
   ]
  },
  {
   "cell_type": "markdown",
   "id": "32f52688-3fc4-4bbe-b081-14da57bf3162",
   "metadata": {},
   "source": [
    "_Note_: In the actual implementation to find similar cyclists we stuck with the collaborative learner model object that we stored on AWS S3. Creating a vector database (e.g. with FAISS or Pinecone) consists of a more advanced alternative. Once the algorithm finds the optimized embeddings, you could indeed put those into a vector database for easier management and similarity search. You would add the code for vector database creation and updating to `scripts/train.py`. This brief notebook is a primer to such a solution."
   ]
  },
  {
   "cell_type": "markdown",
   "id": "f027820b-2f61-45b8-bbaf-db1e38b0e640",
   "metadata": {},
   "source": [
    "## Imports"
   ]
  },
  {
   "cell_type": "code",
   "execution_count": null,
   "id": "9925a5a5",
   "metadata": {
    "tags": []
   },
   "outputs": [],
   "source": [
    "import faiss\n",
    "import numpy as np\n",
    "import pandas as pd\n",
    "from fastai.collab import load_learner"
   ]
  },
  {
   "cell_type": "markdown",
   "id": "092d92d5-bb42-4277-a01f-9e64983136e9",
   "metadata": {
    "tags": []
   },
   "source": [
    "## Create vector db"
   ]
  },
  {
   "cell_type": "code",
   "execution_count": null,
   "id": "c7fb757b-af28-4b81-9b31-afa7c3f03d9a",
   "metadata": {
    "tags": []
   },
   "outputs": [],
   "source": [
    "learn = load_learner(\"../data/learner.pkl\")"
   ]
  },
  {
   "cell_type": "code",
   "execution_count": null,
   "id": "f7b79423",
   "metadata": {},
   "outputs": [],
   "source": [
    "vectors = learn.model.u_weight.weight.detach().numpy()  # cyclist embeddings"
   ]
  },
  {
   "cell_type": "code",
   "execution_count": null,
   "id": "3857e70b",
   "metadata": {},
   "outputs": [],
   "source": [
    "faiss.normalize_L2(vectors)\n",
    "index = faiss.IndexFlatL2(vectors.shape[1])\n",
    "index.add(vectors)"
   ]
  },
  {
   "cell_type": "code",
   "execution_count": null,
   "id": "66d82d49",
   "metadata": {},
   "outputs": [],
   "source": [
    "# faiss.write_index(index, \"../api/faiss_cyclists.index\")\n",
    "# index = faiss.read_index(\"../api/faiss_cyclists.index\")"
   ]
  },
  {
   "cell_type": "code",
   "execution_count": null,
   "id": "a49510dd",
   "metadata": {},
   "outputs": [],
   "source": [
    "search_vector = vectors[2628, :]  # Wout van Aert\n",
    "\n",
    "_vector = np.array([search_vector])\n",
    "faiss.normalize_L2(_vector)\n",
    "\n",
    "distances, ann = index.search(_vector, k=index.ntotal)\n",
    "\n",
    "results = pd.DataFrame({\"distances\": distances[0],\n",
    "                        \"ann\": ann[0],\n",
    "                        \"cyclist\": learn.dls.classes[\"rider\"][ann[0]]})\n",
    "results"
   ]
  }
 ],
 "metadata": {
  "kernelspec": {
   "display_name": ".venv",
   "language": "python",
   "name": "python3"
  },
  "language_info": {
   "codemirror_mode": {
    "name": "ipython",
    "version": 3
   },
   "file_extension": ".py",
   "mimetype": "text/x-python",
   "name": "python",
   "nbconvert_exporter": "python",
   "pygments_lexer": "ipython3",
   "version": "3.9.13"
  }
 },
 "nbformat": 4,
 "nbformat_minor": 5
}
