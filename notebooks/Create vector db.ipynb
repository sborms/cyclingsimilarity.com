{
 "cells": [
  {
   "cell_type": "markdown",
   "id": "2d7831bc-6b05-4933-848a-594b8d2ddf88",
   "metadata": {},
   "source": [
    "# Create a vector database from embeddings"
   ]
  },
  {
   "cell_type": "markdown",
   "id": "32f52688-3fc4-4bbe-b081-14da57bf3162",
   "metadata": {},
   "source": [
    "_Note_: In the actual implementation to find similar cyclists we stuck with the collaborative learner model object that we stored on AWS S3. Creating a vector database (e.g. with FAISS or Pinecone) consists of a more advanced alternative. Once the algorithm finds the optimized embeddings, you could indeed put those into a vector database for easier management and similarity search. You would add the code for vector database creation and updating to `scripts/train.py`. This brief notebook is a primer to such a solution."
   ]
  },
  {
   "cell_type": "markdown",
   "id": "f027820b-2f61-45b8-bbaf-db1e38b0e640",
   "metadata": {},
   "source": [
    "## Imports"
   ]
  },
  {
   "cell_type": "code",
   "execution_count": 1,
   "id": "9925a5a5",
   "metadata": {
    "tags": []
   },
   "outputs": [],
   "source": [
    "import faiss\n",
    "import numpy as np\n",
    "import pandas as pd\n",
    "from fastai.collab import load_learner"
   ]
  },
  {
   "cell_type": "markdown",
   "id": "092d92d5-bb42-4277-a01f-9e64983136e9",
   "metadata": {
    "tags": []
   },
   "source": [
    "## Create vector db"
   ]
  },
  {
   "cell_type": "code",
   "execution_count": 2,
   "id": "c7fb757b-af28-4b81-9b31-afa7c3f03d9a",
   "metadata": {
    "tags": []
   },
   "outputs": [],
   "source": [
    "learn = load_learner(\"../data/learner.pkl\")"
   ]
  },
  {
   "cell_type": "code",
   "execution_count": 3,
   "id": "f7b79423",
   "metadata": {},
   "outputs": [],
   "source": [
    "vectors = learn.model.u_weight.weight.detach().numpy()  # cyclist embeddings"
   ]
  },
  {
   "cell_type": "code",
   "execution_count": 4,
   "id": "3857e70b",
   "metadata": {},
   "outputs": [],
   "source": [
    "faiss.normalize_L2(vectors)\n",
    "index = faiss.IndexFlatL2(vectors.shape[1])\n",
    "index.add(vectors)"
   ]
  },
  {
   "cell_type": "code",
   "execution_count": 5,
   "id": "66d82d49",
   "metadata": {},
   "outputs": [],
   "source": [
    "# faiss.write_index(index, \"../api/faiss_cyclists.index\")\n",
    "# index = faiss.read_index(\"../api/faiss_cyclists.index\")"
   ]
  },
  {
   "cell_type": "code",
   "execution_count": 6,
   "id": "a49510dd",
   "metadata": {},
   "outputs": [
    {
     "data": {
      "text/html": [
       "<div>\n",
       "<style scoped>\n",
       "    .dataframe tbody tr th:only-of-type {\n",
       "        vertical-align: middle;\n",
       "    }\n",
       "\n",
       "    .dataframe tbody tr th {\n",
       "        vertical-align: top;\n",
       "    }\n",
       "\n",
       "    .dataframe thead th {\n",
       "        text-align: right;\n",
       "    }\n",
       "</style>\n",
       "<table border=\"1\" class=\"dataframe\">\n",
       "  <thead>\n",
       "    <tr style=\"text-align: right;\">\n",
       "      <th></th>\n",
       "      <th>distances</th>\n",
       "      <th>ann</th>\n",
       "      <th>cyclist</th>\n",
       "    </tr>\n",
       "  </thead>\n",
       "  <tbody>\n",
       "    <tr>\n",
       "      <th>0</th>\n",
       "      <td>0.000000</td>\n",
       "      <td>1767</td>\n",
       "      <td>VAN AERT Wout</td>\n",
       "    </tr>\n",
       "    <tr>\n",
       "      <th>1</th>\n",
       "      <td>0.492887</td>\n",
       "      <td>1303</td>\n",
       "      <td>PEDERSEN Mads</td>\n",
       "    </tr>\n",
       "    <tr>\n",
       "      <th>2</th>\n",
       "      <td>0.625946</td>\n",
       "      <td>1344</td>\n",
       "      <td>PHILIPSEN Jasper</td>\n",
       "    </tr>\n",
       "    <tr>\n",
       "      <th>3</th>\n",
       "      <td>0.795972</td>\n",
       "      <td>978</td>\n",
       "      <td>LAPORTE Christophe</td>\n",
       "    </tr>\n",
       "    <tr>\n",
       "      <th>4</th>\n",
       "      <td>0.836278</td>\n",
       "      <td>646</td>\n",
       "      <td>GIRMAY Biniam</td>\n",
       "    </tr>\n",
       "    <tr>\n",
       "      <th>...</th>\n",
       "      <td>...</td>\n",
       "      <td>...</td>\n",
       "      <td>...</td>\n",
       "    </tr>\n",
       "    <tr>\n",
       "      <th>1992</th>\n",
       "      <td>3.273132</td>\n",
       "      <td>1944</td>\n",
       "      <td>YATES Adam</td>\n",
       "    </tr>\n",
       "    <tr>\n",
       "      <th>1993</th>\n",
       "      <td>3.374993</td>\n",
       "      <td>1371</td>\n",
       "      <td>POGAČAR Tadej</td>\n",
       "    </tr>\n",
       "    <tr>\n",
       "      <th>1994</th>\n",
       "      <td>3.446501</td>\n",
       "      <td>1945</td>\n",
       "      <td>YATES Simon</td>\n",
       "    </tr>\n",
       "    <tr>\n",
       "      <th>1995</th>\n",
       "      <td>3.497690</td>\n",
       "      <td>758</td>\n",
       "      <td>HINDLEY Jai</td>\n",
       "    </tr>\n",
       "    <tr>\n",
       "      <th>1996</th>\n",
       "      <td>3.669589</td>\n",
       "      <td>1878</td>\n",
       "      <td>VINGEGAARD Jonas</td>\n",
       "    </tr>\n",
       "  </tbody>\n",
       "</table>\n",
       "<p>1997 rows × 3 columns</p>\n",
       "</div>"
      ],
      "text/plain": [
       "      distances   ann             cyclist\n",
       "0      0.000000  1767       VAN AERT Wout\n",
       "1      0.492887  1303       PEDERSEN Mads\n",
       "2      0.625946  1344    PHILIPSEN Jasper\n",
       "3      0.795972   978  LAPORTE Christophe\n",
       "4      0.836278   646       GIRMAY Biniam\n",
       "...         ...   ...                 ...\n",
       "1992   3.273132  1944          YATES Adam\n",
       "1993   3.374993  1371       POGAČAR Tadej\n",
       "1994   3.446501  1945         YATES Simon\n",
       "1995   3.497690   758         HINDLEY Jai\n",
       "1996   3.669589  1878    VINGEGAARD Jonas\n",
       "\n",
       "[1997 rows x 3 columns]"
      ]
     },
     "execution_count": 6,
     "metadata": {},
     "output_type": "execute_result"
    }
   ],
   "source": [
    "cyclist = \"VAN AERT Wout\"\n",
    "\n",
    "idx = [i for i, r in enumerate(learn.model.classes[\"rider\"]) if r == cyclist][0]\n",
    "search_vector = vectors[idx, :]\n",
    "\n",
    "_vector = np.array([search_vector])\n",
    "faiss.normalize_L2(_vector)\n",
    "\n",
    "distances, ann = index.search(_vector, k=index.ntotal)\n",
    "\n",
    "results = pd.DataFrame({\"distances\": distances[0],\n",
    "                        \"ann\": ann[0],\n",
    "                        \"cyclist\": learn.dls.classes[\"rider\"][ann[0]]})\n",
    "results"
   ]
  }
 ],
 "metadata": {
  "kernelspec": {
   "display_name": ".venv",
   "language": "python",
   "name": "python3"
  },
  "language_info": {
   "codemirror_mode": {
    "name": "ipython",
    "version": 3
   },
   "file_extension": ".py",
   "mimetype": "text/x-python",
   "name": "python",
   "nbconvert_exporter": "python",
   "pygments_lexer": "ipython3",
   "version": "3.9.13"
  }
 },
 "nbformat": 4,
 "nbformat_minor": 5
}
